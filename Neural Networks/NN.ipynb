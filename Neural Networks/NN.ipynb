{
 "cells": [
  {
   "cell_type": "markdown",
   "metadata": {},
   "source": [
    "#   Introduction to Neural Networks in TensorFlow"
   ]
  },
  {
   "cell_type": "code",
   "execution_count": 2,
   "metadata": {},
   "outputs": [
    {
     "data": {
      "text/plain": [
       "'2.8.0'"
      ]
     },
     "execution_count": 2,
     "metadata": {},
     "output_type": "execute_result"
    }
   ],
   "source": [
    "import tensorflow as tf\n",
    "tf.__version__\n"
   ]
  },
  {
   "cell_type": "code",
   "execution_count": 3,
   "metadata": {},
   "outputs": [],
   "source": [
    "import numpy as np\n",
    "import matplotlib.pyplot as plt\n"
   ]
  },
  {
   "cell_type": "code",
   "execution_count": 4,
   "metadata": {},
   "outputs": [
    {
     "data": {
      "text/plain": [
       "(array([-7., -4., -1.,  2.,  5.,  8., 11., 14.]),\n",
       " array([ 3.,  6.,  9., 12., 15., 18., 21., 24.]))"
      ]
     },
     "execution_count": 4,
     "metadata": {},
     "output_type": "execute_result"
    }
   ],
   "source": [
    "X = np.array([float(i) for i in range(-7, 15, 3)])\n",
    "Y = np.array([float(i+10) for i in range(-7, 15, 3)])\n",
    "X,Y\n"
   ]
  },
  {
   "cell_type": "code",
   "execution_count": 5,
   "metadata": {},
   "outputs": [
    {
     "data": {
      "text/plain": [
       "<matplotlib.collections.PathCollection at 0x206ad76a110>"
      ]
     },
     "execution_count": 5,
     "metadata": {},
     "output_type": "execute_result"
    },
    {
     "data": {
      "image/png": "[encoded data removed]",
      "text/plain": [
       "<Figure size 432x288 with 1 Axes>"
      ]
     },
     "metadata": {
      "needs_background": "light"
     },
     "output_type": "display_data"
    }
   ],
   "source": [
    "plt.scatter(X, Y)\n"
   ]
  },
  {
   "cell_type": "code",
   "execution_count": 6,
   "metadata": {},
   "outputs": [
    {
     "data": {
      "text/plain": [
       "array([ 3.,  6.,  9., 12., 15., 18., 21., 24.])"
      ]
     },
     "execution_count": 6,
     "metadata": {},
     "output_type": "execute_result"
    }
   ],
   "source": [
    "Y = np.array([float(i+10) for i in range(-7, 15, 3)])\n",
    "Y\n"
   ]
  },
  {
   "cell_type": "code",
   "execution_count": 7,
   "metadata": {},
   "outputs": [
    {
     "data": {
      "text/plain": [
       "array([ 3.,  6.,  9., 12., 15., 18., 21., 24.])"
      ]
     },
     "execution_count": 7,
     "metadata": {},
     "output_type": "execute_result"
    }
   ],
   "source": [
    "X + 10\n"
   ]
  },
  {
   "cell_type": "code",
   "execution_count": 8,
   "metadata": {},
   "outputs": [
    {
     "data": {
      "text/plain": [
       "array([ True,  True,  True,  True,  True,  True,  True,  True])"
      ]
     },
     "execution_count": 8,
     "metadata": {},
     "output_type": "execute_result"
    }
   ],
   "source": [
    "Y == X + 10\n"
   ]
  },
  {
   "cell_type": "markdown",
   "metadata": {},
   "source": [
    "Input and Output Shapes\n"
   ]
  },
  {
   "cell_type": "code",
   "execution_count": 9,
   "metadata": {},
   "outputs": [
    {
     "data": {
      "text/plain": [
       "(<tf.Tensor: shape=(3,), dtype=string, numpy=array([b'bathroom', b'bedroom', b'garage'], dtype=object)>,\n",
       " <tf.Tensor: shape=(1,), dtype=int32, numpy=array([90000])>)"
      ]
     },
     "execution_count": 9,
     "metadata": {},
     "output_type": "execute_result"
    }
   ],
   "source": [
    "#\n",
    "house_info = tf.constant([\"bathroom\", \"bedroom\", \"garage\"])\n",
    "house_price = tf.constant([90000])\n",
    "\n",
    "house_info, house_price\n"
   ]
  },
  {
   "cell_type": "code",
   "execution_count": 10,
   "metadata": {},
   "outputs": [
    {
     "data": {
      "text/plain": [
       "((8,), (8,))"
      ]
     },
     "execution_count": 10,
     "metadata": {},
     "output_type": "execute_result"
    }
   ],
   "source": [
    "input_shape = X.shape\n",
    "output_shape = Y.shape\n",
    "\n",
    "input_shape, output_shape\n"
   ]
  },
  {
   "cell_type": "code",
   "execution_count": 11,
   "metadata": {},
   "outputs": [
    {
     "data": {
      "text/plain": [
       "(<tf.Tensor: shape=(8,), dtype=float64, numpy=array([-7., -4., -1.,  2.,  5.,  8., 11., 14.])>,\n",
       " <tf.Tensor: shape=(8,), dtype=float64, numpy=array([ 3.,  6.,  9., 12., 15., 18., 21., 24.])>)"
      ]
     },
     "execution_count": 11,
     "metadata": {},
     "output_type": "execute_result"
    }
   ],
   "source": [
    "X = tf.constant(X)\n",
    "Y = tf.constant(Y)\n",
    "X, Y\n"
   ]
  },
  {
   "cell_type": "code",
   "execution_count": 12,
   "metadata": {},
   "outputs": [
    {
     "data": {
      "text/plain": [
       "(TensorShape([]), TensorShape([]))"
      ]
     },
     "execution_count": 12,
     "metadata": {},
     "output_type": "execute_result"
    }
   ],
   "source": [
    "X[0].shape, Y[0].shape\n"
   ]
  },
  {
   "cell_type": "markdown",
   "metadata": {},
   "source": [
    "### Creating a Model"
   ]
  },
  {
   "cell_type": "code",
   "execution_count": 13,
   "metadata": {},
   "outputs": [
    {
     "name": "stdout",
     "output_type": "stream",
     "text": [
      "Epoch 1/5\n",
      "1/1 [==============================] - 1s 1s/step - loss: 11.5048 - mean_absolute_error: 11.5048\n",
      "Epoch 2/5\n",
      "1/1 [==============================] - 0s 7ms/step - loss: 11.3723 - mean_absolute_error: 11.3723\n",
      "Epoch 3/5\n",
      "1/1 [==============================] - 0s 5ms/step - loss: 11.2398 - mean_absolute_error: 11.2398\n",
      "Epoch 4/5\n",
      "1/1 [==============================] - 0s 7ms/step - loss: 11.1073 - mean_absolute_error: 11.1073\n",
      "Epoch 5/5\n",
      "1/1 [==============================] - 0s 7ms/step - loss: 10.9748 - mean_absolute_error: 10.9748\n"
     ]
    },
    {
     "data": {
      "text/plain": [
       "<keras.callbacks.History at 0x206beee12a0>"
      ]
     },
     "execution_count": 13,
     "metadata": {},
     "output_type": "execute_result"
    }
   ],
   "source": [
    "tf.random.set_seed(42)\n",
    "\n",
    "model = tf.keras.Sequential([\n",
    "    tf.keras.layers.Dense(1),\n",
    "])\n",
    "\n",
    "model.compile(\n",
    "    loss=tf.keras.losses.mae,\n",
    "    optimizer=tf.keras.optimizers.SGD(),\n",
    "    metrics=tf.keras.metrics.mae\n",
    ")\n",
    "\n",
    "model.fit(tf.expand_dims(X,-1), Y, epochs=5)\n"
   ]
  },
  {
   "cell_type": "code",
   "execution_count": 14,
   "metadata": {},
   "outputs": [
    {
     "data": {
      "text/plain": [
       "array([[12.716021]], dtype=float32)"
      ]
     },
     "execution_count": 14,
     "metadata": {},
     "output_type": "execute_result"
    }
   ],
   "source": [
    "model.predict([17.0])"
   ]
  },
  {
   "cell_type": "markdown",
   "metadata": {},
   "source": [
    "### Improvement 1"
   ]
  },
  {
   "cell_type": "code",
   "execution_count": 15,
   "metadata": {},
   "outputs": [
    {
     "name": "stdout",
     "output_type": "stream",
     "text": [
      "Epoch 1/100\n",
      "1/1 [==============================] - 0s 410ms/step - loss: 11.2219 - mean_absolute_error: 11.2219\n",
      "Epoch 2/100\n",
      "1/1 [==============================] - 0s 5ms/step - loss: 11.0894 - mean_absolute_error: 11.0894\n",
      "Epoch 3/100\n",
      "1/1 [==============================] - 0s 6ms/step - loss: 10.9569 - mean_absolute_error: 10.9569\n",
      "Epoch 4/100\n",
      "1/1 [==============================] - 0s 7ms/step - loss: 10.8244 - mean_absolute_error: 10.8244\n",
      "Epoch 5/100\n",
      "1/1 [==============================] - 0s 7ms/step - loss: 10.6919 - mean_absolute_error: 10.6919\n",
      "Epoch 6/100\n",
      "1/1 [==============================] - 0s 6ms/step - loss: 10.5594 - mean_absolute_error: 10.5594\n",
      "Epoch 7/100\n",
      "1/1 [==============================] - 0s 6ms/step - loss: 10.4269 - mean_absolute_error: 10.4269\n",
      "Epoch 8/100\n",
      "1/1 [==============================] - 0s 7ms/step - loss: 10.2944 - mean_absolute_error: 10.2944\n",
      "Epoch 9/100\n",
      "1/1 [==============================] - 0s 5ms/step - loss: 10.1619 - mean_absolute_error: 10.1619\n",
      "Epoch 10/100\n",
      "1/1 [==============================] - 0s 6ms/step - loss: 10.0294 - mean_absolute_error: 10.0294\n",
      "Epoch 11/100\n",
      "1/1 [==============================] - 0s 6ms/step - loss: 9.8969 - mean_absolute_error: 9.8969\n",
      "Epoch 12/100\n",
      "1/1 [==============================] - 0s 6ms/step - loss: 9.7644 - mean_absolute_error: 9.7644\n",
      "Epoch 13/100\n",
      "1/1 [==============================] - 0s 6ms/step - loss: 9.6319 - mean_absolute_error: 9.6319\n",
      "Epoch 14/100\n",
      "1/1 [==============================] - 0s 6ms/step - loss: 9.4994 - mean_absolute_error: 9.4994\n",
      "Epoch 15/100\n",
      "1/1 [==============================] - 0s 8ms/step - loss: 9.3669 - mean_absolute_error: 9.3669\n",
      "Epoch 16/100\n",
      "1/1 [==============================] - 0s 5ms/step - loss: 9.2344 - mean_absolute_error: 9.2344\n",
      "Epoch 17/100\n",
      "1/1 [==============================] - 0s 6ms/step - loss: 9.1019 - mean_absolute_error: 9.1019\n",
      "Epoch 18/100\n",
      "1/1 [==============================] - 0s 6ms/step - loss: 8.9694 - mean_absolute_error: 8.9694\n",
      "Epoch 19/100\n",
      "1/1 [==============================] - 0s 5ms/step - loss: 8.8369 - mean_absolute_error: 8.8369\n",
      "Epoch 20/100\n",
      "1/1 [==============================] - 0s 6ms/step - loss: 8.7044 - mean_absolute_error: 8.7044\n",
      "Epoch 21/100\n",
      "1/1 [==============================] - 0s 7ms/step - loss: 8.5719 - mean_absolute_error: 8.5719\n",
      "Epoch 22/100\n",
      "1/1 [==============================] - 0s 8ms/step - loss: 8.4394 - mean_absolute_error: 8.4394\n",
      "Epoch 23/100\n",
      "1/1 [==============================] - 0s 8ms/step - loss: 8.3069 - mean_absolute_error: 8.3069\n",
      "Epoch 24/100\n",
      "1/1 [==============================] - 0s 8ms/step - loss: 8.1744 - mean_absolute_error: 8.1744\n",
      "Epoch 25/100\n",
      "1/1 [==============================] - 0s 11ms/step - loss: 8.0419 - mean_absolute_error: 8.0419\n",
      "Epoch 26/100\n",
      "1/1 [==============================] - 0s 8ms/step - loss: 7.9094 - mean_absolute_error: 7.9094\n",
      "Epoch 27/100\n",
      "1/1 [==============================] - 0s 7ms/step - loss: 7.7769 - mean_absolute_error: 7.7769\n",
      "Epoch 28/100\n",
      "1/1 [==============================] - 0s 7ms/step - loss: 7.6444 - mean_absolute_error: 7.6444\n",
      "Epoch 29/100\n",
      "1/1 [==============================] - 0s 5ms/step - loss: 7.5119 - mean_absolute_error: 7.5119\n",
      "Epoch 30/100\n",
      "1/1 [==============================] - 0s 7ms/step - loss: 7.3794 - mean_absolute_error: 7.3794\n",
      "Epoch 31/100\n",
      "1/1 [==============================] - 0s 6ms/step - loss: 7.2750 - mean_absolute_error: 7.2750\n",
      "Epoch 32/100\n",
      "1/1 [==============================] - 0s 7ms/step - loss: 7.2694 - mean_absolute_error: 7.2694\n",
      "Epoch 33/100\n",
      "1/1 [==============================] - 0s 6ms/step - loss: 7.2638 - mean_absolute_error: 7.2638\n",
      "Epoch 34/100\n",
      "1/1 [==============================] - 0s 6ms/step - loss: 7.2581 - mean_absolute_error: 7.2581\n",
      "Epoch 35/100\n",
      "1/1 [==============================] - 0s 7ms/step - loss: 7.2525 - mean_absolute_error: 7.2525\n",
      "Epoch 36/100\n",
      "1/1 [==============================] - 0s 5ms/step - loss: 7.2469 - mean_absolute_error: 7.2469\n",
      "Epoch 37/100\n",
      "1/1 [==============================] - 0s 6ms/step - loss: 7.2413 - mean_absolute_error: 7.2413\n",
      "Epoch 38/100\n",
      "1/1 [==============================] - 0s 8ms/step - loss: 7.2356 - mean_absolute_error: 7.2356\n",
      "Epoch 39/100\n",
      "1/1 [==============================] - 0s 6ms/step - loss: 7.2300 - mean_absolute_error: 7.2300\n",
      "Epoch 40/100\n",
      "1/1 [==============================] - 0s 7ms/step - loss: 7.2244 - mean_absolute_error: 7.2244\n",
      "Epoch 41/100\n",
      "1/1 [==============================] - 0s 6ms/step - loss: 7.2188 - mean_absolute_error: 7.2188\n",
      "Epoch 42/100\n",
      "1/1 [==============================] - 0s 5ms/step - loss: 7.2131 - mean_absolute_error: 7.2131\n",
      "Epoch 43/100\n",
      "1/1 [==============================] - 0s 7ms/step - loss: 7.2075 - mean_absolute_error: 7.2075\n",
      "Epoch 44/100\n",
      "1/1 [==============================] - 0s 5ms/step - loss: 7.2019 - mean_absolute_error: 7.2019\n",
      "Epoch 45/100\n",
      "1/1 [==============================] - 0s 6ms/step - loss: 7.1962 - mean_absolute_error: 7.1962\n",
      "Epoch 46/100\n",
      "1/1 [==============================] - 0s 6ms/step - loss: 7.1906 - mean_absolute_error: 7.1906\n",
      "Epoch 47/100\n",
      "1/1 [==============================] - 0s 7ms/step - loss: 7.1850 - mean_absolute_error: 7.1850\n",
      "Epoch 48/100\n",
      "1/1 [==============================] - 0s 6ms/step - loss: 7.1794 - mean_absolute_error: 7.1794\n",
      "Epoch 49/100\n",
      "1/1 [==============================] - 0s 5ms/step - loss: 7.1737 - mean_absolute_error: 7.1737\n",
      "Epoch 50/100\n",
      "1/1 [==============================] - 0s 7ms/step - loss: 7.1681 - mean_absolute_error: 7.1681\n",
      "Epoch 51/100\n",
      "1/1 [==============================] - 0s 6ms/step - loss: 7.1625 - mean_absolute_error: 7.1625\n",
      "Epoch 52/100\n",
      "1/1 [==============================] - 0s 7ms/step - loss: 7.1569 - mean_absolute_error: 7.1569\n",
      "Epoch 53/100\n",
      "1/1 [==============================] - 0s 7ms/step - loss: 7.1512 - mean_absolute_error: 7.1512\n",
      "Epoch 54/100\n",
      "1/1 [==============================] - 0s 5ms/step - loss: 7.1456 - mean_absolute_error: 7.1456\n",
      "Epoch 55/100\n",
      "1/1 [==============================] - 0s 6ms/step - loss: 7.1400 - mean_absolute_error: 7.1400\n",
      "Epoch 56/100\n",
      "1/1 [==============================] - 0s 6ms/step - loss: 7.1344 - mean_absolute_error: 7.1344\n",
      "Epoch 57/100\n",
      "1/1 [==============================] - 0s 6ms/step - loss: 7.1287 - mean_absolute_error: 7.1287\n",
      "Epoch 58/100\n",
      "1/1 [==============================] - 0s 6ms/step - loss: 7.1231 - mean_absolute_error: 7.1231\n",
      "Epoch 59/100\n",
      "1/1 [==============================] - ETA: 0s - loss: 7.1175 - mean_absolute_error: 7.1175"
     ]
    }
   ],
   "source": [
    "\n",
    "model1 = tf.keras.Sequential([\n",
    "    tf.keras.layers.Dense(1)\n",
    "])\n",
    "\n",
    "model1.compile(loss=tf.keras.losses.mae,\n",
    "              optimizer=tf.keras.optimizers.SGD(),\n",
    "              metrics=tf.keras.metrics.mae\n",
    "              )\n",
    "with tf.device(\"/gpu:0\"):\n",
    "    model1.fit(tf.expand_dims(X, -1), Y, epochs=100)\n"
   ]
  },
  {
   "cell_type": "code",
   "execution_count": null,
   "metadata": {},
   "outputs": [
    {
     "data": {
      "text/plain": [
       "array([[29.739855]], dtype=float32)"
      ]
     },
     "execution_count": 15,
     "metadata": {},
     "output_type": "execute_result"
    }
   ],
   "source": [
    "model1.predict([17.0])"
   ]
  },
  {
   "cell_type": "markdown",
   "metadata": {},
   "source": [
    "### Improvement 2"
   ]
  },
  {
   "cell_type": "code",
   "execution_count": null,
   "metadata": {},
   "outputs": [
    {
     "name": "stdout",
     "output_type": "stream",
     "text": [
      "Epoch 1/100\n",
      "1/1 [==============================] - 1s 559ms/step - loss: 12.3193 - mean_absolute_error: 12.3193\n",
      "Epoch 2/100\n",
      "1/1 [==============================] - 0s 8ms/step - loss: 11.7804 - mean_absolute_error: 11.7804\n",
      "Epoch 3/100\n",
      "1/1 [==============================] - 0s 8ms/step - loss: 11.2324 - mean_absolute_error: 11.2324\n",
      "Epoch 4/100\n",
      "1/1 [==============================] - 0s 8ms/step - loss: 10.6601 - mean_absolute_error: 10.6601\n",
      "Epoch 5/100\n",
      "1/1 [==============================] - 0s 9ms/step - loss: 10.0632 - mean_absolute_error: 10.0632\n",
      "Epoch 6/100\n",
      "1/1 [==============================] - 0s 9ms/step - loss: 9.4503 - mean_absolute_error: 9.4503\n",
      "Epoch 7/100\n",
      "1/1 [==============================] - 0s 7ms/step - loss: 8.7991 - mean_absolute_error: 8.7991\n",
      "Epoch 8/100\n",
      "1/1 [==============================] - 0s 8ms/step - loss: 8.1072 - mean_absolute_error: 8.1072\n",
      "Epoch 9/100\n",
      "1/1 [==============================] - 0s 7ms/step - loss: 7.3691 - mean_absolute_error: 7.3691\n",
      "Epoch 10/100\n",
      "1/1 [==============================] - 0s 7ms/step - loss: 6.5758 - mean_absolute_error: 6.5758\n",
      "Epoch 11/100\n",
      "1/1 [==============================] - 0s 8ms/step - loss: 5.7205 - mean_absolute_error: 5.7205\n",
      "Epoch 12/100\n",
      "1/1 [==============================] - 0s 9ms/step - loss: 4.7947 - mean_absolute_error: 4.7947\n",
      "Epoch 13/100\n",
      "1/1 [==============================] - 0s 12ms/step - loss: 4.3581 - mean_absolute_error: 4.3581\n",
      "Epoch 14/100\n",
      "1/1 [==============================] - 0s 7ms/step - loss: 4.3134 - mean_absolute_error: 4.3134\n",
      "Epoch 15/100\n",
      "1/1 [==============================] - 0s 7ms/step - loss: 4.2550 - mean_absolute_error: 4.2550\n",
      "Epoch 16/100\n",
      "1/1 [==============================] - 0s 8ms/step - loss: 4.2442 - mean_absolute_error: 4.2442\n",
      "Epoch 17/100\n",
      "1/1 [==============================] - 0s 8ms/step - loss: 4.1520 - mean_absolute_error: 4.1520\n",
      "Epoch 18/100\n",
      "1/1 [==============================] - 0s 12ms/step - loss: 4.1739 - mean_absolute_error: 4.1739\n",
      "Epoch 19/100\n",
      "1/1 [==============================] - 0s 11ms/step - loss: 4.0681 - mean_absolute_error: 4.0681\n",
      "Epoch 20/100\n",
      "1/1 [==============================] - 0s 11ms/step - loss: 4.0807 - mean_absolute_error: 4.0807\n",
      "Epoch 21/100\n",
      "1/1 [==============================] - 0s 11ms/step - loss: 3.9954 - mean_absolute_error: 3.9954\n",
      "Epoch 22/100\n",
      "1/1 [==============================] - 0s 7ms/step - loss: 3.9739 - mean_absolute_error: 3.9739\n",
      "Epoch 23/100\n",
      "1/1 [==============================] - 0s 8ms/step - loss: 3.9208 - mean_absolute_error: 3.9208\n",
      "Epoch 24/100\n",
      "1/1 [==============================] - 0s 8ms/step - loss: 3.9047 - mean_absolute_error: 3.9047\n",
      "Epoch 25/100\n",
      "1/1 [==============================] - 0s 8ms/step - loss: 3.9267 - mean_absolute_error: 3.9267\n",
      "Epoch 26/100\n",
      "1/1 [==============================] - 0s 7ms/step - loss: 3.8797 - mean_absolute_error: 3.8797\n",
      "Epoch 27/100\n",
      "1/1 [==============================] - 0s 7ms/step - loss: 3.9341 - mean_absolute_error: 3.9341\n",
      "Epoch 28/100\n",
      "1/1 [==============================] - 0s 18ms/step - loss: 3.8678 - mean_absolute_error: 3.8678\n",
      "Epoch 29/100\n",
      "1/1 [==============================] - 0s 7ms/step - loss: 3.9274 - mean_absolute_error: 3.9274\n",
      "Epoch 30/100\n",
      "1/1 [==============================] - 0s 7ms/step - loss: 3.8751 - mean_absolute_error: 3.8751\n",
      "Epoch 31/100\n",
      "1/1 [==============================] - 0s 6ms/step - loss: 3.9080 - mean_absolute_error: 3.9080\n",
      "Epoch 32/100\n",
      "1/1 [==============================] - 0s 6ms/step - loss: 3.8893 - mean_absolute_error: 3.8893\n",
      "Epoch 33/100\n",
      "1/1 [==============================] - 0s 9ms/step - loss: 3.8834 - mean_absolute_error: 3.8834\n",
      "Epoch 34/100\n",
      "1/1 [==============================] - 0s 6ms/step - loss: 3.8969 - mean_absolute_error: 3.8969\n",
      "Epoch 35/100\n",
      "1/1 [==============================] - 0s 6ms/step - loss: 3.8581 - mean_absolute_error: 3.8581\n",
      "Epoch 36/100\n",
      "1/1 [==============================] - 0s 9ms/step - loss: 3.9046 - mean_absolute_error: 3.9046\n",
      "Epoch 37/100\n",
      "1/1 [==============================] - 0s 12ms/step - loss: 3.8386 - mean_absolute_error: 3.8386\n",
      "Epoch 38/100\n",
      "1/1 [==============================] - 0s 8ms/step - loss: 3.9054 - mean_absolute_error: 3.9054\n",
      "Epoch 39/100\n",
      "1/1 [==============================] - 0s 5ms/step - loss: 3.8482 - mean_absolute_error: 3.8482\n",
      "Epoch 40/100\n",
      "1/1 [==============================] - 0s 6ms/step - loss: 3.8862 - mean_absolute_error: 3.8862\n",
      "Epoch 41/100\n",
      "1/1 [==============================] - 0s 9ms/step - loss: 3.8605 - mean_absolute_error: 3.8605\n",
      "Epoch 42/100\n",
      "1/1 [==============================] - 0s 7ms/step - loss: 3.8608 - mean_absolute_error: 3.8608\n",
      "Epoch 43/100\n",
      "1/1 [==============================] - 0s 7ms/step - loss: 3.8683 - mean_absolute_error: 3.8683\n",
      "Epoch 44/100\n",
      "1/1 [==============================] - 0s 7ms/step - loss: 3.8352 - mean_absolute_error: 3.8352\n",
      "Epoch 45/100\n",
      "1/1 [==============================] - 0s 8ms/step - loss: 3.8762 - mean_absolute_error: 3.8762\n",
      "Epoch 46/100\n",
      "1/1 [==============================] - 0s 7ms/step - loss: 3.8106 - mean_absolute_error: 3.8106\n",
      "Epoch 47/100\n",
      "1/1 [==============================] - 0s 10ms/step - loss: 3.8821 - mean_absolute_error: 3.8821\n",
      "Epoch 48/100\n",
      "1/1 [==============================] - 0s 7ms/step - loss: 3.8234 - mean_absolute_error: 3.8234\n",
      "Epoch 49/100\n",
      "1/1 [==============================] - 0s 7ms/step - loss: 3.8626 - mean_absolute_error: 3.8626\n",
      "Epoch 50/100\n",
      "1/1 [==============================] - 0s 7ms/step - loss: 3.8328 - mean_absolute_error: 3.8328\n",
      "Epoch 51/100\n",
      "1/1 [==============================] - 0s 8ms/step - loss: 3.8369 - mean_absolute_error: 3.8369\n",
      "Epoch 52/100\n",
      "1/1 [==============================] - 0s 9ms/step - loss: 3.8408 - mean_absolute_error: 3.8408\n",
      "Epoch 53/100\n",
      "1/1 [==============================] - 0s 9ms/step - loss: 3.8111 - mean_absolute_error: 3.8111\n",
      "Epoch 54/100\n",
      "1/1 [==============================] - 0s 6ms/step - loss: 3.8489 - mean_absolute_error: 3.8489\n",
      "Epoch 55/100\n",
      "1/1 [==============================] - 0s 8ms/step - loss: 3.7850 - mean_absolute_error: 3.7850\n",
      "Epoch 56/100\n",
      "1/1 [==============================] - 0s 9ms/step - loss: 3.8585 - mean_absolute_error: 3.8585\n",
      "Epoch 57/100\n",
      "1/1 [==============================] - 0s 7ms/step - loss: 3.7982 - mean_absolute_error: 3.7982\n",
      "Epoch 58/100\n",
      "1/1 [==============================] - 0s 8ms/step - loss: 3.8377 - mean_absolute_error: 3.8377\n",
      "Epoch 59/100\n",
      "1/1 [==============================] - 0s 8ms/step - loss: 3.8062 - mean_absolute_error: 3.8062\n",
      "Epoch 60/100\n",
      "1/1 [==============================] - 0s 8ms/step - loss: 3.8117 - mean_absolute_error: 3.8117\n",
      "Epoch 61/100\n",
      "1/1 [==============================] - 0s 8ms/step - loss: 3.8144 - mean_absolute_error: 3.8144\n",
      "Epoch 62/100\n",
      "1/1 [==============================] - 0s 9ms/step - loss: 3.7856 - mean_absolute_error: 3.7856\n",
      "Epoch 63/100\n",
      "1/1 [==============================] - 0s 9ms/step - loss: 3.8227 - mean_absolute_error: 3.8227\n",
      "Epoch 64/100\n",
      "1/1 [==============================] - 0s 8ms/step - loss: 3.7593 - mean_absolute_error: 3.7593\n",
      "Epoch 65/100\n",
      "1/1 [==============================] - 0s 8ms/step - loss: 3.8352 - mean_absolute_error: 3.8352\n",
      "Epoch 66/100\n",
      "1/1 [==============================] - 0s 9ms/step - loss: 3.7725 - mean_absolute_error: 3.7725\n",
      "Epoch 67/100\n",
      "1/1 [==============================] - 0s 8ms/step - loss: 3.8115 - mean_absolute_error: 3.8115\n",
      "Epoch 68/100\n",
      "1/1 [==============================] - 0s 7ms/step - loss: 3.7807 - mean_absolute_error: 3.7807\n",
      "Epoch 69/100\n",
      "1/1 [==============================] - 0s 9ms/step - loss: 3.7853 - mean_absolute_error: 3.7853\n",
      "Epoch 70/100\n",
      "1/1 [==============================] - 0s 12ms/step - loss: 3.7891 - mean_absolute_error: 3.7891\n",
      "Epoch 71/100\n",
      "1/1 [==============================] - 0s 9ms/step - loss: 3.7588 - mean_absolute_error: 3.7588\n",
      "Epoch 72/100\n",
      "1/1 [==============================] - 0s 9ms/step - loss: 3.7975 - mean_absolute_error: 3.7975\n",
      "Epoch 73/100\n",
      "1/1 [==============================] - 0s 8ms/step - loss: 3.7337 - mean_absolute_error: 3.7337\n",
      "Epoch 74/100\n",
      "1/1 [==============================] - 0s 9ms/step - loss: 3.8105 - mean_absolute_error: 3.8105\n",
      "Epoch 75/100\n",
      "1/1 [==============================] - 0s 7ms/step - loss: 3.7478 - mean_absolute_error: 3.7478\n",
      "Epoch 76/100\n",
      "1/1 [==============================] - 0s 9ms/step - loss: 3.7840 - mean_absolute_error: 3.7840\n",
      "Epoch 77/100\n",
      "1/1 [==============================] - 0s 6ms/step - loss: 3.7563 - mean_absolute_error: 3.7563\n",
      "Epoch 78/100\n",
      "1/1 [==============================] - 0s 9ms/step - loss: 3.7575 - mean_absolute_error: 3.7575\n",
      "Epoch 79/100\n",
      "1/1 [==============================] - 0s 9ms/step - loss: 3.7648 - mean_absolute_error: 3.7648\n",
      "Epoch 80/100\n",
      "1/1 [==============================] - 0s 8ms/step - loss: 3.7307 - mean_absolute_error: 3.7307\n",
      "Epoch 81/100\n",
      "1/1 [==============================] - 0s 9ms/step - loss: 3.7735 - mean_absolute_error: 3.7735\n",
      "Epoch 82/100\n",
      "1/1 [==============================] - 0s 7ms/step - loss: 3.7125 - mean_absolute_error: 3.7125\n",
      "Epoch 83/100\n",
      "1/1 [==============================] - 0s 10ms/step - loss: 3.7820 - mean_absolute_error: 3.7820\n",
      "Epoch 84/100\n",
      "1/1 [==============================] - 0s 9ms/step - loss: 3.7242 - mean_absolute_error: 3.7242\n",
      "Epoch 85/100\n",
      "1/1 [==============================] - 0s 8ms/step - loss: 3.7552 - mean_absolute_error: 3.7552\n",
      "Epoch 86/100\n",
      "1/1 [==============================] - 0s 7ms/step - loss: 3.7329 - mean_absolute_error: 3.7329\n",
      "Epoch 87/100\n",
      "1/1 [==============================] - 0s 6ms/step - loss: 3.7284 - mean_absolute_error: 3.7284\n",
      "Epoch 88/100\n",
      "1/1 [==============================] - 0s 7ms/step - loss: 3.7416 - mean_absolute_error: 3.7416\n",
      "Epoch 89/100\n",
      "1/1 [==============================] - 0s 8ms/step - loss: 3.7013 - mean_absolute_error: 3.7013\n",
      "Epoch 90/100\n",
      "1/1 [==============================] - 0s 7ms/step - loss: 3.7505 - mean_absolute_error: 3.7505\n",
      "Epoch 91/100\n",
      "1/1 [==============================] - 0s 7ms/step - loss: 3.6921 - mean_absolute_error: 3.6921\n",
      "Epoch 92/100\n",
      "1/1 [==============================] - 0s 10ms/step - loss: 3.7522 - mean_absolute_error: 3.7522\n",
      "Epoch 93/100\n",
      "1/1 [==============================] - 0s 9ms/step - loss: 3.7016 - mean_absolute_error: 3.7016\n",
      "Epoch 94/100\n",
      "1/1 [==============================] - 0s 8ms/step - loss: 3.7251 - mean_absolute_error: 3.7251\n",
      "Epoch 95/100\n",
      "1/1 [==============================] - 0s 10ms/step - loss: 3.7105 - mean_absolute_error: 3.7105\n",
      "Epoch 96/100\n",
      "1/1 [==============================] - 0s 8ms/step - loss: 3.6979 - mean_absolute_error: 3.6979\n",
      "Epoch 97/100\n",
      "1/1 [==============================] - 0s 6ms/step - loss: 3.7194 - mean_absolute_error: 3.7194\n",
      "Epoch 98/100\n",
      "1/1 [==============================] - 0s 9ms/step - loss: 3.6705 - mean_absolute_error: 3.6705\n",
      "Epoch 99/100\n",
      "1/1 [==============================] - 0s 8ms/step - loss: 3.7299 - mean_absolute_error: 3.7299\n",
      "Epoch 100/100\n",
      "1/1 [==============================] - 0s 11ms/step - loss: 3.6711 - mean_absolute_error: 3.6711\n"
     ]
    }
   ],
   "source": [
    "\n",
    "model2 = tf.keras.Sequential([\n",
    "    tf.keras.layers.Dense(100, activation=tf.keras.activations.relu),\n",
    "    tf.keras.layers.Dense(1)\n",
    "])\n",
    "\n",
    "model2.compile(loss=tf.keras.losses.mae,\n",
    "               optimizer=tf.keras.optimizers.SGD(),\n",
    "               metrics=tf.keras.metrics.mae\n",
    "               )\n",
    "with tf.device(\"/gpu:0\"):\n",
    "    model2.fit(tf.expand_dims(X, -1), Y, epochs=100)\n"
   ]
  },
  {
   "cell_type": "code",
   "execution_count": null,
   "metadata": {},
   "outputs": [
    {
     "data": {
      "text/plain": [
       "array([[31.223137]], dtype=float32)"
      ]
     },
     "execution_count": 17,
     "metadata": {},
     "output_type": "execute_result"
    }
   ],
   "source": [
    "model2.predict([17.0])"
   ]
  },
  {
   "cell_type": "code",
   "execution_count": null,
   "metadata": {},
   "outputs": [
    {
     "name": "stdout",
     "output_type": "stream",
     "text": [
      "Epoch 1/100\n",
      "1/1 [==============================] - 1s 579ms/step - loss: 12.2895 - mean_absolute_error: 12.2895\n",
      "Epoch 2/100\n",
      "1/1 [==============================] - 0s 8ms/step - loss: 11.7908 - mean_absolute_error: 11.7908\n",
      "Epoch 3/100\n",
      "1/1 [==============================] - 0s 8ms/step - loss: 11.2845 - mean_absolute_error: 11.2845\n",
      "Epoch 4/100\n",
      "1/1 [==============================] - 0s 7ms/step - loss: 10.7678 - mean_absolute_error: 10.7678\n",
      "Epoch 5/100\n",
      "1/1 [==============================] - 0s 7ms/step - loss: 10.2381 - mean_absolute_error: 10.2381\n",
      "Epoch 6/100\n",
      "1/1 [==============================] - 0s 8ms/step - loss: 9.6928 - mean_absolute_error: 9.6928\n",
      "Epoch 7/100\n",
      "1/1 [==============================] - 0s 9ms/step - loss: 9.1289 - mean_absolute_error: 9.1289\n",
      "Epoch 8/100\n",
      "1/1 [==============================] - 0s 7ms/step - loss: 8.5437 - mean_absolute_error: 8.5437\n",
      "Epoch 9/100\n",
      "1/1 [==============================] - 0s 7ms/step - loss: 7.9341 - mean_absolute_error: 7.9341\n",
      "Epoch 10/100\n",
      "1/1 [==============================] - 0s 9ms/step - loss: 7.2971 - mean_absolute_error: 7.2971\n",
      "Epoch 11/100\n",
      "1/1 [==============================] - 0s 7ms/step - loss: 7.2595 - mean_absolute_error: 7.2595\n",
      "Epoch 12/100\n",
      "1/1 [==============================] - 0s 9ms/step - loss: 7.2396 - mean_absolute_error: 7.2396\n",
      "Epoch 13/100\n",
      "1/1 [==============================] - 0s 7ms/step - loss: 7.2197 - mean_absolute_error: 7.2197\n",
      "Epoch 14/100\n",
      "1/1 [==============================] - 0s 8ms/step - loss: 7.2056 - mean_absolute_error: 7.2056\n",
      "Epoch 15/100\n",
      "1/1 [==============================] - 0s 9ms/step - loss: 7.1903 - mean_absolute_error: 7.1903\n",
      "Epoch 16/100\n",
      "1/1 [==============================] - 0s 10ms/step - loss: 7.1708 - mean_absolute_error: 7.1708\n",
      "Epoch 17/100\n",
      "1/1 [==============================] - 0s 8ms/step - loss: 7.1513 - mean_absolute_error: 7.1513\n",
      "Epoch 18/100\n",
      "1/1 [==============================] - 0s 10ms/step - loss: 7.1317 - mean_absolute_error: 7.1317\n",
      "Epoch 19/100\n",
      "1/1 [==============================] - 0s 9ms/step - loss: 7.1121 - mean_absolute_error: 7.1121\n",
      "Epoch 20/100\n",
      "1/1 [==============================] - 0s 12ms/step - loss: 7.0924 - mean_absolute_error: 7.0924\n",
      "Epoch 21/100\n",
      "1/1 [==============================] - 0s 11ms/step - loss: 7.0727 - mean_absolute_error: 7.0727\n",
      "Epoch 22/100\n",
      "1/1 [==============================] - 0s 11ms/step - loss: 7.0529 - mean_absolute_error: 7.0529\n",
      "Epoch 23/100\n",
      "1/1 [==============================] - 0s 7ms/step - loss: 7.0330 - mean_absolute_error: 7.0330\n",
      "Epoch 24/100\n",
      "1/1 [==============================] - 0s 9ms/step - loss: 7.0130 - mean_absolute_error: 7.0130\n",
      "Epoch 25/100\n",
      "1/1 [==============================] - 0s 8ms/step - loss: 6.9930 - mean_absolute_error: 6.9930\n",
      "Epoch 26/100\n",
      "1/1 [==============================] - 0s 6ms/step - loss: 6.9729 - mean_absolute_error: 6.9729\n",
      "Epoch 27/100\n",
      "1/1 [==============================] - 0s 9ms/step - loss: 6.9527 - mean_absolute_error: 6.9527\n",
      "Epoch 28/100\n",
      "1/1 [==============================] - 0s 9ms/step - loss: 6.9324 - mean_absolute_error: 6.9324\n",
      "Epoch 29/100\n",
      "1/1 [==============================] - 0s 9ms/step - loss: 6.9121 - mean_absolute_error: 6.9121\n",
      "Epoch 30/100\n",
      "1/1 [==============================] - 0s 8ms/step - loss: 6.8916 - mean_absolute_error: 6.8916\n",
      "Epoch 31/100\n",
      "1/1 [==============================] - 0s 7ms/step - loss: 6.8711 - mean_absolute_error: 6.8711\n",
      "Epoch 32/100\n",
      "1/1 [==============================] - 0s 7ms/step - loss: 6.8504 - mean_absolute_error: 6.8504\n",
      "Epoch 33/100\n",
      "1/1 [==============================] - 0s 9ms/step - loss: 6.8297 - mean_absolute_error: 6.8297\n",
      "Epoch 34/100\n",
      "1/1 [==============================] - 0s 6ms/step - loss: 6.8089 - mean_absolute_error: 6.8089\n",
      "Epoch 35/100\n",
      "1/1 [==============================] - 0s 8ms/step - loss: 6.7879 - mean_absolute_error: 6.7879\n",
      "Epoch 36/100\n",
      "1/1 [==============================] - 0s 7ms/step - loss: 6.7668 - mean_absolute_error: 6.7668\n",
      "Epoch 37/100\n",
      "1/1 [==============================] - 0s 11ms/step - loss: 6.7456 - mean_absolute_error: 6.7456\n",
      "Epoch 38/100\n",
      "1/1 [==============================] - 0s 9ms/step - loss: 6.7243 - mean_absolute_error: 6.7243\n",
      "Epoch 39/100\n",
      "1/1 [==============================] - 0s 11ms/step - loss: 6.7029 - mean_absolute_error: 6.7029\n",
      "Epoch 40/100\n",
      "1/1 [==============================] - 0s 9ms/step - loss: 6.6814 - mean_absolute_error: 6.6814\n",
      "Epoch 41/100\n",
      "1/1 [==============================] - 0s 7ms/step - loss: 6.6597 - mean_absolute_error: 6.6597\n",
      "Epoch 42/100\n",
      "1/1 [==============================] - 0s 7ms/step - loss: 6.6379 - mean_absolute_error: 6.6379\n",
      "Epoch 43/100\n",
      "1/1 [==============================] - 0s 7ms/step - loss: 6.6286 - mean_absolute_error: 6.6286\n",
      "Epoch 44/100\n",
      "1/1 [==============================] - 0s 9ms/step - loss: 6.6127 - mean_absolute_error: 6.6127\n",
      "Epoch 45/100\n",
      "1/1 [==============================] - 0s 8ms/step - loss: 6.5911 - mean_absolute_error: 6.5911\n",
      "Epoch 46/100\n",
      "1/1 [==============================] - 0s 8ms/step - loss: 6.5693 - mean_absolute_error: 6.5693\n",
      "Epoch 47/100\n",
      "1/1 [==============================] - 0s 8ms/step - loss: 6.5474 - mean_absolute_error: 6.5474\n",
      "Epoch 48/100\n",
      "1/1 [==============================] - 0s 8ms/step - loss: 6.5253 - mean_absolute_error: 6.5253\n",
      "Epoch 49/100\n",
      "1/1 [==============================] - 0s 9ms/step - loss: 6.5031 - mean_absolute_error: 6.5031\n",
      "Epoch 50/100\n",
      "1/1 [==============================] - 0s 9ms/step - loss: 6.4807 - mean_absolute_error: 6.4807\n",
      "Epoch 51/100\n",
      "1/1 [==============================] - 0s 8ms/step - loss: 6.4581 - mean_absolute_error: 6.4581\n",
      "Epoch 52/100\n",
      "1/1 [==============================] - 0s 10ms/step - loss: 6.4354 - mean_absolute_error: 6.4354\n",
      "Epoch 53/100\n",
      "1/1 [==============================] - 0s 7ms/step - loss: 6.4125 - mean_absolute_error: 6.4125\n",
      "Epoch 54/100\n",
      "1/1 [==============================] - 0s 6ms/step - loss: 6.3895 - mean_absolute_error: 6.3895\n",
      "Epoch 55/100\n",
      "1/1 [==============================] - 0s 10ms/step - loss: 6.3662 - mean_absolute_error: 6.3662\n",
      "Epoch 56/100\n",
      "1/1 [==============================] - 0s 12ms/step - loss: 6.3428 - mean_absolute_error: 6.3428\n",
      "Epoch 57/100\n",
      "1/1 [==============================] - 0s 10ms/step - loss: 6.3192 - mean_absolute_error: 6.3192\n",
      "Epoch 58/100\n",
      "1/1 [==============================] - 0s 8ms/step - loss: 6.2954 - mean_absolute_error: 6.2954\n",
      "Epoch 59/100\n",
      "1/1 [==============================] - 0s 10ms/step - loss: 6.2714 - mean_absolute_error: 6.2714\n",
      "Epoch 60/100\n",
      "1/1 [==============================] - 0s 8ms/step - loss: 6.2472 - mean_absolute_error: 6.2472\n",
      "Epoch 61/100\n",
      "1/1 [==============================] - 0s 9ms/step - loss: 6.2228 - mean_absolute_error: 6.2228\n",
      "Epoch 62/100\n",
      "1/1 [==============================] - 0s 6ms/step - loss: 6.1982 - mean_absolute_error: 6.1982\n",
      "Epoch 63/100\n",
      "1/1 [==============================] - 0s 8ms/step - loss: 6.1964 - mean_absolute_error: 6.1964\n",
      "Epoch 64/100\n",
      "1/1 [==============================] - 0s 9ms/step - loss: 6.1730 - mean_absolute_error: 6.1730\n",
      "Epoch 65/100\n",
      "1/1 [==============================] - 0s 7ms/step - loss: 6.1484 - mean_absolute_error: 6.1484\n",
      "Epoch 66/100\n",
      "1/1 [==============================] - 0s 7ms/step - loss: 6.1236 - mean_absolute_error: 6.1236\n",
      "Epoch 67/100\n",
      "1/1 [==============================] - 0s 7ms/step - loss: 6.0985 - mean_absolute_error: 6.0985\n",
      "Epoch 68/100\n",
      "1/1 [==============================] - 0s 8ms/step - loss: 6.0732 - mean_absolute_error: 6.0732\n",
      "Epoch 69/100\n",
      "1/1 [==============================] - 0s 11ms/step - loss: 6.0477 - mean_absolute_error: 6.0477\n",
      "Epoch 70/100\n",
      "1/1 [==============================] - 0s 9ms/step - loss: 6.0219 - mean_absolute_error: 6.0219\n",
      "Epoch 71/100\n",
      "1/1 [==============================] - 0s 9ms/step - loss: 5.9959 - mean_absolute_error: 5.9959\n",
      "Epoch 72/100\n",
      "1/1 [==============================] - 0s 11ms/step - loss: 5.9696 - mean_absolute_error: 5.9696\n",
      "Epoch 73/100\n",
      "1/1 [==============================] - 0s 9ms/step - loss: 5.9431 - mean_absolute_error: 5.9431\n",
      "Epoch 74/100\n",
      "1/1 [==============================] - 0s 10ms/step - loss: 5.9164 - mean_absolute_error: 5.9164\n",
      "Epoch 75/100\n",
      "1/1 [==============================] - 0s 10ms/step - loss: 5.8894 - mean_absolute_error: 5.8894\n",
      "Epoch 76/100\n",
      "1/1 [==============================] - 0s 10ms/step - loss: 5.8621 - mean_absolute_error: 5.8621\n",
      "Epoch 77/100\n",
      "1/1 [==============================] - 0s 9ms/step - loss: 5.8346 - mean_absolute_error: 5.8346\n",
      "Epoch 78/100\n",
      "1/1 [==============================] - 0s 7ms/step - loss: 5.8068 - mean_absolute_error: 5.8068\n",
      "Epoch 79/100\n",
      "1/1 [==============================] - 0s 8ms/step - loss: 5.7949 - mean_absolute_error: 5.7949\n",
      "Epoch 80/100\n",
      "1/1 [==============================] - 0s 10ms/step - loss: 5.7793 - mean_absolute_error: 5.7793\n",
      "Epoch 81/100\n",
      "1/1 [==============================] - 0s 7ms/step - loss: 5.7512 - mean_absolute_error: 5.7512\n",
      "Epoch 82/100\n",
      "1/1 [==============================] - 0s 10ms/step - loss: 5.7229 - mean_absolute_error: 5.7229\n",
      "Epoch 83/100\n",
      "1/1 [==============================] - 0s 8ms/step - loss: 5.6943 - mean_absolute_error: 5.6943\n",
      "Epoch 84/100\n",
      "1/1 [==============================] - 0s 6ms/step - loss: 5.6654 - mean_absolute_error: 5.6654\n",
      "Epoch 85/100\n",
      "1/1 [==============================] - 0s 7ms/step - loss: 5.6361 - mean_absolute_error: 5.6361\n",
      "Epoch 86/100\n",
      "1/1 [==============================] - 0s 8ms/step - loss: 5.6066 - mean_absolute_error: 5.6066\n",
      "Epoch 87/100\n",
      "1/1 [==============================] - 0s 7ms/step - loss: 5.5767 - mean_absolute_error: 5.5767\n",
      "Epoch 88/100\n",
      "1/1 [==============================] - 0s 6ms/step - loss: 5.5466 - mean_absolute_error: 5.5466\n",
      "Epoch 89/100\n",
      "1/1 [==============================] - 0s 7ms/step - loss: 5.5161 - mean_absolute_error: 5.5161\n",
      "Epoch 90/100\n",
      "1/1 [==============================] - 0s 11ms/step - loss: 5.4853 - mean_absolute_error: 5.4853\n",
      "Epoch 91/100\n",
      "1/1 [==============================] - 0s 8ms/step - loss: 5.4541 - mean_absolute_error: 5.4541\n",
      "Epoch 92/100\n",
      "1/1 [==============================] - 0s 11ms/step - loss: 5.4226 - mean_absolute_error: 5.4226\n",
      "Epoch 93/100\n",
      "1/1 [==============================] - 0s 7ms/step - loss: 5.3908 - mean_absolute_error: 5.3908\n",
      "Epoch 94/100\n",
      "1/1 [==============================] - 0s 6ms/step - loss: 5.3897 - mean_absolute_error: 5.3897\n",
      "Epoch 95/100\n",
      "1/1 [==============================] - 0s 7ms/step - loss: 5.3713 - mean_absolute_error: 5.3713\n",
      "Epoch 96/100\n",
      "1/1 [==============================] - 0s 9ms/step - loss: 5.5008 - mean_absolute_error: 5.5008\n",
      "Epoch 97/100\n",
      "1/1 [==============================] - 0s 9ms/step - loss: 5.2897 - mean_absolute_error: 5.2897\n",
      "Epoch 98/100\n",
      "1/1 [==============================] - 0s 6ms/step - loss: 5.2566 - mean_absolute_error: 5.2566\n",
      "Epoch 99/100\n",
      "1/1 [==============================] - 0s 6ms/step - loss: 5.2231 - mean_absolute_error: 5.2231\n",
      "Epoch 100/100\n",
      "1/1 [==============================] - 0s 8ms/step - loss: 5.1892 - mean_absolute_error: 5.1892\n"
     ]
    }
   ],
   "source": [
    "\n",
    "model3 = tf.keras.Sequential([\n",
    "    tf.keras.layers.Dense(50, activation=None),\n",
    "    tf.keras.layers.Dense(1)\n",
    "])\n",
    "\n",
    "model3.compile(loss=tf.keras.losses.mae,\n",
    "               optimizer=tf.keras.optimizers.SGD(),\n",
    "               metrics=tf.keras.metrics.mae\n",
    "               )\n",
    "with tf.device(\"/gpu:0\"):\n",
    "    model3.fit(tf.expand_dims(X, -1), Y, epochs=100)\n"
   ]
  },
  {
   "cell_type": "code",
   "execution_count": null,
   "metadata": {},
   "outputs": [
    {
     "data": {
      "text/plain": [
       "array([[30.220291]], dtype=float32)"
      ]
     },
     "execution_count": 19,
     "metadata": {},
     "output_type": "execute_result"
    }
   ],
   "source": [
    "model3.predict([17.0])"
   ]
  },
  {
   "cell_type": "code",
   "execution_count": null,
   "metadata": {},
   "outputs": [
    {
     "name": "stdout",
     "output_type": "stream",
     "text": [
      "Epoch 1/100\n"
     ]
    },
    {
     "name": "stderr",
     "output_type": "stream",
     "text": [
      "C:\\Users\\ISHAN\\.conda\\envs\\gputest\\lib\\site-packages\\keras\\optimizer_v2\\adam.py:105: UserWarning: The `lr` argument is deprecated, use `learning_rate` instead.\n",
      "  super(Adam, self).__init__(name, **kwargs)\n"
     ]
    },
    {
     "name": "stdout",
     "output_type": "stream",
     "text": [
      "1/1 [==============================] - 1s 556ms/step - loss: 12.5419 - mean_absolute_error: 12.5419\n",
      "Epoch 2/100\n",
      "1/1 [==============================] - 0s 8ms/step - loss: 12.4726 - mean_absolute_error: 12.4726\n",
      "Epoch 3/100\n",
      "1/1 [==============================] - 0s 6ms/step - loss: 12.4032 - mean_absolute_error: 12.4032\n",
      "Epoch 4/100\n",
      "1/1 [==============================] - 0s 9ms/step - loss: 12.3338 - mean_absolute_error: 12.3338\n",
      "Epoch 5/100\n",
      "1/1 [==============================] - 0s 8ms/step - loss: 12.2644 - mean_absolute_error: 12.2644\n",
      "Epoch 6/100\n",
      "1/1 [==============================] - 0s 7ms/step - loss: 12.1950 - mean_absolute_error: 12.1950\n",
      "Epoch 7/100\n",
      "1/1 [==============================] - 0s 8ms/step - loss: 12.1256 - mean_absolute_error: 12.1256\n",
      "Epoch 8/100\n",
      "1/1 [==============================] - 0s 8ms/step - loss: 12.0561 - mean_absolute_error: 12.0561\n",
      "Epoch 9/100\n",
      "1/1 [==============================] - 0s 8ms/step - loss: 11.9866 - mean_absolute_error: 11.9866\n",
      "Epoch 10/100\n",
      "1/1 [==============================] - 0s 9ms/step - loss: 11.9171 - mean_absolute_error: 11.9171\n",
      "Epoch 11/100\n",
      "1/1 [==============================] - 0s 8ms/step - loss: 11.8476 - mean_absolute_error: 11.8476\n",
      "Epoch 12/100\n",
      "1/1 [==============================] - 0s 8ms/step - loss: 11.7780 - mean_absolute_error: 11.7780\n",
      "Epoch 13/100\n",
      "1/1 [==============================] - 0s 8ms/step - loss: 11.7083 - mean_absolute_error: 11.7083\n",
      "Epoch 14/100\n",
      "1/1 [==============================] - 0s 8ms/step - loss: 11.6386 - mean_absolute_error: 11.6386\n",
      "Epoch 15/100\n",
      "1/1 [==============================] - 0s 9ms/step - loss: 11.5688 - mean_absolute_error: 11.5688\n",
      "Epoch 16/100\n",
      "1/1 [==============================] - 0s 8ms/step - loss: 11.4990 - mean_absolute_error: 11.4990\n",
      "Epoch 17/100\n",
      "1/1 [==============================] - 0s 10ms/step - loss: 11.4291 - mean_absolute_error: 11.4291\n",
      "Epoch 18/100\n",
      "1/1 [==============================] - 0s 9ms/step - loss: 11.3591 - mean_absolute_error: 11.3591\n",
      "Epoch 19/100\n",
      "1/1 [==============================] - 0s 9ms/step - loss: 11.2891 - mean_absolute_error: 11.2891\n",
      "Epoch 20/100\n",
      "1/1 [==============================] - 0s 7ms/step - loss: 11.2189 - mean_absolute_error: 11.2189\n",
      "Epoch 21/100\n",
      "1/1 [==============================] - 0s 9ms/step - loss: 11.1487 - mean_absolute_error: 11.1487\n",
      "Epoch 22/100\n",
      "1/1 [==============================] - 0s 10ms/step - loss: 11.0783 - mean_absolute_error: 11.0783\n",
      "Epoch 23/100\n",
      "1/1 [==============================] - 0s 10ms/step - loss: 11.0079 - mean_absolute_error: 11.0079\n",
      "Epoch 24/100\n",
      "1/1 [==============================] - 0s 9ms/step - loss: 10.9373 - mean_absolute_error: 10.9373\n",
      "Epoch 25/100\n",
      "1/1 [==============================] - 0s 8ms/step - loss: 10.8666 - mean_absolute_error: 10.8666\n",
      "Epoch 26/100\n",
      "1/1 [==============================] - 0s 6ms/step - loss: 10.7958 - mean_absolute_error: 10.7958\n",
      "Epoch 27/100\n",
      "1/1 [==============================] - 0s 8ms/step - loss: 10.7248 - mean_absolute_error: 10.7248\n",
      "Epoch 28/100\n",
      "1/1 [==============================] - 0s 9ms/step - loss: 10.6537 - mean_absolute_error: 10.6537\n",
      "Epoch 29/100\n",
      "1/1 [==============================] - 0s 8ms/step - loss: 10.5824 - mean_absolute_error: 10.5824\n",
      "Epoch 30/100\n",
      "1/1 [==============================] - 0s 8ms/step - loss: 10.5110 - mean_absolute_error: 10.5110\n",
      "Epoch 31/100\n",
      "1/1 [==============================] - 0s 8ms/step - loss: 10.4394 - mean_absolute_error: 10.4394\n",
      "Epoch 32/100\n",
      "1/1 [==============================] - 0s 9ms/step - loss: 10.3676 - mean_absolute_error: 10.3676\n",
      "Epoch 33/100\n",
      "1/1 [==============================] - 0s 7ms/step - loss: 10.2956 - mean_absolute_error: 10.2956\n",
      "Epoch 34/100\n",
      "1/1 [==============================] - 0s 13ms/step - loss: 10.2235 - mean_absolute_error: 10.2235\n",
      "Epoch 35/100\n",
      "1/1 [==============================] - 0s 23ms/step - loss: 10.1511 - mean_absolute_error: 10.1511\n",
      "Epoch 36/100\n",
      "1/1 [==============================] - 0s 17ms/step - loss: 10.0786 - mean_absolute_error: 10.0786\n",
      "Epoch 37/100\n",
      "1/1 [==============================] - 0s 14ms/step - loss: 10.0058 - mean_absolute_error: 10.0058\n",
      "Epoch 38/100\n",
      "1/1 [==============================] - 0s 10ms/step - loss: 9.9328 - mean_absolute_error: 9.9328\n",
      "Epoch 39/100\n",
      "1/1 [==============================] - 0s 9ms/step - loss: 9.8595 - mean_absolute_error: 9.8595\n",
      "Epoch 40/100\n",
      "1/1 [==============================] - 0s 9ms/step - loss: 9.7860 - mean_absolute_error: 9.7860\n",
      "Epoch 41/100\n",
      "1/1 [==============================] - 0s 8ms/step - loss: 9.7123 - mean_absolute_error: 9.7123\n",
      "Epoch 42/100\n",
      "1/1 [==============================] - 0s 9ms/step - loss: 9.6383 - mean_absolute_error: 9.6383\n",
      "Epoch 43/100\n",
      "1/1 [==============================] - 0s 9ms/step - loss: 9.5640 - mean_absolute_error: 9.5640\n",
      "Epoch 44/100\n",
      "1/1 [==============================] - 0s 9ms/step - loss: 9.4894 - mean_absolute_error: 9.4894\n",
      "Epoch 45/100\n",
      "1/1 [==============================] - 0s 11ms/step - loss: 9.4146 - mean_absolute_error: 9.4146\n",
      "Epoch 46/100\n",
      "1/1 [==============================] - 0s 10ms/step - loss: 9.3395 - mean_absolute_error: 9.3395\n",
      "Epoch 47/100\n",
      "1/1 [==============================] - 0s 8ms/step - loss: 9.2640 - mean_absolute_error: 9.2640\n",
      "Epoch 48/100\n",
      "1/1 [==============================] - 0s 10ms/step - loss: 9.1883 - mean_absolute_error: 9.1883\n",
      "Epoch 49/100\n",
      "1/1 [==============================] - 0s 9ms/step - loss: 9.1123 - mean_absolute_error: 9.1123\n",
      "Epoch 50/100\n",
      "1/1 [==============================] - 0s 10ms/step - loss: 9.0359 - mean_absolute_error: 9.0359\n",
      "Epoch 51/100\n",
      "1/1 [==============================] - 0s 11ms/step - loss: 8.9592 - mean_absolute_error: 8.9592\n",
      "Epoch 52/100\n",
      "1/1 [==============================] - 0s 9ms/step - loss: 8.8821 - mean_absolute_error: 8.8821\n",
      "Epoch 53/100\n",
      "1/1 [==============================] - 0s 10ms/step - loss: 8.8047 - mean_absolute_error: 8.8047\n",
      "Epoch 54/100\n",
      "1/1 [==============================] - 0s 14ms/step - loss: 8.7269 - mean_absolute_error: 8.7269\n",
      "Epoch 55/100\n",
      "1/1 [==============================] - 0s 11ms/step - loss: 8.6488 - mean_absolute_error: 8.6488\n",
      "Epoch 56/100\n",
      "1/1 [==============================] - 0s 10ms/step - loss: 8.5703 - mean_absolute_error: 8.5703\n",
      "Epoch 57/100\n",
      "1/1 [==============================] - 0s 10ms/step - loss: 8.4914 - mean_absolute_error: 8.4914\n",
      "Epoch 58/100\n",
      "1/1 [==============================] - 0s 13ms/step - loss: 8.4121 - mean_absolute_error: 8.4121\n",
      "Epoch 59/100\n",
      "1/1 [==============================] - 0s 13ms/step - loss: 8.3324 - mean_absolute_error: 8.3324\n",
      "Epoch 60/100\n",
      "1/1 [==============================] - 0s 11ms/step - loss: 8.2524 - mean_absolute_error: 8.2524\n",
      "Epoch 61/100\n",
      "1/1 [==============================] - 0s 11ms/step - loss: 8.1719 - mean_absolute_error: 8.1719\n",
      "Epoch 62/100\n",
      "1/1 [==============================] - 0s 12ms/step - loss: 8.0910 - mean_absolute_error: 8.0910\n",
      "Epoch 63/100\n",
      "1/1 [==============================] - 0s 11ms/step - loss: 8.0097 - mean_absolute_error: 8.0097\n",
      "Epoch 64/100\n",
      "1/1 [==============================] - 0s 12ms/step - loss: 7.9279 - mean_absolute_error: 7.9279\n",
      "Epoch 65/100\n",
      "1/1 [==============================] - 0s 16ms/step - loss: 7.8457 - mean_absolute_error: 7.8457\n",
      "Epoch 66/100\n",
      "1/1 [==============================] - 0s 10ms/step - loss: 7.7631 - mean_absolute_error: 7.7631\n",
      "Epoch 67/100\n",
      "1/1 [==============================] - 0s 11ms/step - loss: 7.6800 - mean_absolute_error: 7.6800\n",
      "Epoch 68/100\n",
      "1/1 [==============================] - 0s 11ms/step - loss: 7.5964 - mean_absolute_error: 7.5964\n",
      "Epoch 69/100\n",
      "1/1 [==============================] - 0s 12ms/step - loss: 7.5124 - mean_absolute_error: 7.5124\n",
      "Epoch 70/100\n",
      "1/1 [==============================] - 0s 12ms/step - loss: 7.4279 - mean_absolute_error: 7.4279\n",
      "Epoch 71/100\n",
      "1/1 [==============================] - 0s 10ms/step - loss: 7.3429 - mean_absolute_error: 7.3429\n",
      "Epoch 72/100\n",
      "1/1 [==============================] - 0s 12ms/step - loss: 7.2574 - mean_absolute_error: 7.2574\n",
      "Epoch 73/100\n",
      "1/1 [==============================] - 0s 9ms/step - loss: 7.1715 - mean_absolute_error: 7.1715\n",
      "Epoch 74/100\n",
      "1/1 [==============================] - 0s 11ms/step - loss: 7.0850 - mean_absolute_error: 7.0850\n",
      "Epoch 75/100\n",
      "1/1 [==============================] - 0s 10ms/step - loss: 6.9981 - mean_absolute_error: 6.9981\n",
      "Epoch 76/100\n",
      "1/1 [==============================] - 0s 10ms/step - loss: 6.9106 - mean_absolute_error: 6.9106\n",
      "Epoch 77/100\n",
      "1/1 [==============================] - 0s 12ms/step - loss: 6.8949 - mean_absolute_error: 6.8949\n",
      "Epoch 78/100\n",
      "1/1 [==============================] - 0s 11ms/step - loss: 6.8849 - mean_absolute_error: 6.8849\n",
      "Epoch 79/100\n",
      "1/1 [==============================] - 0s 10ms/step - loss: 6.8751 - mean_absolute_error: 6.8751\n",
      "Epoch 80/100\n",
      "1/1 [==============================] - 0s 11ms/step - loss: 6.8655 - mean_absolute_error: 6.8655\n",
      "Epoch 81/100\n",
      "1/1 [==============================] - 0s 12ms/step - loss: 6.8561 - mean_absolute_error: 6.8561\n",
      "Epoch 82/100\n",
      "1/1 [==============================] - 0s 13ms/step - loss: 6.8469 - mean_absolute_error: 6.8469\n",
      "Epoch 83/100\n",
      "1/1 [==============================] - 0s 11ms/step - loss: 6.8377 - mean_absolute_error: 6.8377\n",
      "Epoch 84/100\n",
      "1/1 [==============================] - 0s 8ms/step - loss: 6.8288 - mean_absolute_error: 6.8288\n",
      "Epoch 85/100\n",
      "1/1 [==============================] - 0s 10ms/step - loss: 6.8199 - mean_absolute_error: 6.8199\n",
      "Epoch 86/100\n",
      "1/1 [==============================] - 0s 9ms/step - loss: 6.8111 - mean_absolute_error: 6.8111\n",
      "Epoch 87/100\n",
      "1/1 [==============================] - 0s 7ms/step - loss: 6.8024 - mean_absolute_error: 6.8024\n",
      "Epoch 88/100\n",
      "1/1 [==============================] - 0s 7ms/step - loss: 6.7938 - mean_absolute_error: 6.7938\n",
      "Epoch 89/100\n",
      "1/1 [==============================] - 0s 9ms/step - loss: 6.7911 - mean_absolute_error: 6.7911\n",
      "Epoch 90/100\n",
      "1/1 [==============================] - 0s 7ms/step - loss: 6.7981 - mean_absolute_error: 6.7981\n",
      "Epoch 91/100\n",
      "1/1 [==============================] - 0s 8ms/step - loss: 6.7990 - mean_absolute_error: 6.7990\n",
      "Epoch 92/100\n",
      "1/1 [==============================] - 0s 6ms/step - loss: 6.7943 - mean_absolute_error: 6.7943\n",
      "Epoch 93/100\n",
      "1/1 [==============================] - 0s 7ms/step - loss: 6.7846 - mean_absolute_error: 6.7846\n",
      "Epoch 94/100\n",
      "1/1 [==============================] - 0s 9ms/step - loss: 6.7704 - mean_absolute_error: 6.7704\n",
      "Epoch 95/100\n",
      "1/1 [==============================] - 0s 7ms/step - loss: 6.7522 - mean_absolute_error: 6.7522\n",
      "Epoch 96/100\n",
      "1/1 [==============================] - 0s 8ms/step - loss: 6.7366 - mean_absolute_error: 6.7366\n",
      "Epoch 97/100\n",
      "1/1 [==============================] - 0s 7ms/step - loss: 6.7304 - mean_absolute_error: 6.7304\n",
      "Epoch 98/100\n",
      "1/1 [==============================] - 0s 6ms/step - loss: 6.7241 - mean_absolute_error: 6.7241\n",
      "Epoch 99/100\n",
      "1/1 [==============================] - 0s 7ms/step - loss: 6.7175 - mean_absolute_error: 6.7175\n",
      "Epoch 100/100\n",
      "1/1 [==============================] - 0s 8ms/step - loss: 6.7109 - mean_absolute_error: 6.7109\n"
     ]
    }
   ],
   "source": [
    "\n",
    "model4 = tf.keras.Sequential([\n",
    "    tf.keras.layers.Dense(50, activation=None),\n",
    "    tf.keras.layers.Dense(1)\n",
    "])\n",
    "\n",
    "model4.compile(loss=tf.keras.losses.mae,\n",
    "               optimizer=tf.keras.optimizers.Adam(lr=0.001),\n",
    "               metrics=tf.keras.metrics.mae\n",
    "               )\n",
    "with tf.device(\"/gpu:0\"):\n",
    "    model4.fit(tf.expand_dims(X, -1), Y, epochs=100)\n"
   ]
  },
  {
   "cell_type": "code",
   "execution_count": null,
   "metadata": {},
   "outputs": [
    {
     "name": "stdout",
     "output_type": "stream",
     "text": [
      "WARNING:tensorflow:5 out of the last 5 calls to <function Model.make_predict_function.<locals>.predict_function at 0x00000213ACB42E60> triggered tf.function retracing. Tracing is expensive and the excessive number of tracings could be due to (1) creating @tf.function repeatedly in a loop, (2) passing tensors with different shapes, (3) passing Python objects instead of tensors. For (1), please define your @tf.function outside of the loop. For (2), @tf.function has experimental_relax_shapes=True option that relaxes argument shapes that can avoid unnecessary retracing. For (3), please refer to https://www.tensorflow.org/guide/function#controlling_retracing and https://www.tensorflow.org/api_docs/python/tf/function for  more details.\n"
     ]
    },
    {
     "data": {
      "text/plain": [
       "array([[31.509909]], dtype=float32)"
      ]
     },
     "execution_count": 21,
     "metadata": {},
     "output_type": "execute_result"
    }
   ],
   "source": [
    "model4.predict([17.0])"
   ]
  },
  {
   "cell_type": "markdown",
   "metadata": {},
   "source": [
    "### Evaluating Model\n",
    "\n",
    "> \"Visualize, Visualize, Visualize\""
   ]
  },
  {
   "cell_type": "code",
   "execution_count": null,
   "metadata": {},
   "outputs": [
    {
     "data": {
      "text/plain": [
       "<tf.Tensor: shape=(50,), dtype=int32, numpy=\n",
       "array([-100,  -96,  -92,  -88,  -84,  -80,  -76,  -72,  -68,  -64,  -60,\n",
       "        -56,  -52,  -48,  -44,  -40,  -36,  -32,  -28,  -24,  -20,  -16,\n",
       "        -12,   -8,   -4,    0,    4,    8,   12,   16,   20,   24,   28,\n",
       "         32,   36,   40,   44,   48,   52,   56,   60,   64,   68,   72,\n",
       "         76,   80,   84,   88,   92,   96])>"
      ]
     },
     "execution_count": 22,
     "metadata": {},
     "output_type": "execute_result"
    }
   ],
   "source": [
    "# Make bigger dataset\n",
    "X = tf.range(-100,100,4)\n",
    "X"
   ]
  },
  {
   "cell_type": "code",
   "execution_count": null,
   "metadata": {},
   "outputs": [
    {
     "data": {
      "text/plain": [
       "<tf.Tensor: shape=(50,), dtype=int32, numpy=\n",
       "array([-90, -86, -82, -78, -74, -70, -66, -62, -58, -54, -50, -46, -42,\n",
       "       -38, -34, -30, -26, -22, -18, -14, -10,  -6,  -2,   2,   6,  10,\n",
       "        14,  18,  22,  26,  30,  34,  38,  42,  46,  50,  54,  58,  62,\n",
       "        66,  70,  74,  78,  82,  86,  90,  94,  98, 102, 106])>"
      ]
     },
     "execution_count": 23,
     "metadata": {},
     "output_type": "execute_result"
    }
   ],
   "source": [
    "Y = 10+X\n",
    "Y"
   ]
  },
  {
   "cell_type": "code",
   "execution_count": null,
   "metadata": {},
   "outputs": [
    {
     "data": {
      "text/plain": [
       "<matplotlib.collections.PathCollection at 0x2145c1cfb80>"
      ]
     },
     "execution_count": 24,
     "metadata": {},
     "output_type": "execute_result"
    },
    {
     "data": {
      "image/png": "[encoded data removed]",
      "text/plain": [
       "<Figure size 432x288 with 1 Axes>"
      ]
     },
     "metadata": {
      "needs_background": "light"
     },
     "output_type": "display_data"
    }
   ],
   "source": [
    "plt.scatter(X,Y)"
   ]
  },
  {
   "cell_type": "code",
   "execution_count": null,
   "metadata": {},
   "outputs": [],
   "source": [
    "# The 3 sets...\n",
    "DATASET_SIZE = X.numpy().size\n",
    "\n",
    "X_train = X[:round(0.8*DATASET_SIZE)]\n",
    "X_test = X[round(0.8*DATASET_SIZE):]\n",
    "\n",
    "Y_train = Y[:round(0.8*DATASET_SIZE)]\n",
    "Y_test = Y[round(0.8*DATASET_SIZE):]\n",
    "\n"
   ]
  },
  {
   "cell_type": "code",
   "execution_count": null,
   "metadata": {},
   "outputs": [
    {
     "data": {
      "text/plain": [
       "<matplotlib.legend.Legend at 0x2145c241c60>"
      ]
     },
     "execution_count": 26,
     "metadata": {},
     "output_type": "execute_result"
    },
    {
     "data": {
      "image/png": "[encoded data removed]",
      "text/plain": [
       "<Figure size 504x720 with 1 Axes>"
      ]
     },
     "metadata": {
      "needs_background": "light"
     },
     "output_type": "display_data"
    }
   ],
   "source": [
    "#Visualising the data\n",
    "\n",
    "plt.figure(figsize=(7,10))\n",
    "\n",
    "plt.scatter(X_train,Y_train,c='b', label='Training data')\n",
    "\n",
    "plt.scatter(X_test,Y_test,c='g', label='Testing data')\n",
    "plt.legend()"
   ]
  },
  {
   "cell_type": "markdown",
   "metadata": {},
   "source": [
    "## Creating a neural network"
   ]
  },
  {
   "cell_type": "code",
   "execution_count": null,
   "metadata": {},
   "outputs": [],
   "source": [
    "\n",
    "model5 = tf.keras.Sequential([\n",
    "    tf.keras.layers.Dense(50, input_shape=[1], name=\"input_layer\"),\n",
    "    tf.keras.layers.Dense(50, activation=tf.keras.activations.linear),\n",
    "    tf.keras.layers.Dropout(0.2),\n",
    "    tf.keras.layers.Dense(1, activation=None),\n",
    "], name='test_model')\n",
    "\n",
    "model5.compile(loss=tf.keras.losses.mae,\n",
    "               optimizer=tf.keras.optimizers.Adam(lr=0.001),\n",
    "               metrics=tf.keras.metrics.mae\n",
    "               )\n",
    "# with tf.device(\"/gpu:0\"):\n",
    "#     model5.fit(tf.expand_dims(X_test, -1), Y_train, epochs=100)\n"
   ]
  },
  {
   "cell_type": "code",
   "execution_count": null,
   "metadata": {},
   "outputs": [
    {
     "name": "stdout",
     "output_type": "stream",
     "text": [
      "Model: \"test_model\"\n",
      "_________________________________________________________________\n",
      " Layer (type)                Output Shape              Param #   \n",
      "=================================================================\n",
      " input_layer (Dense)         (None, 50)                100       \n",
      "                                                                 \n",
      " dense_8 (Dense)             (None, 50)                2550      \n",
      "                                                                 \n",
      " dropout (Dropout)           (None, 50)                0         \n",
      "                                                                 \n",
      " dense_9 (Dense)             (None, 1)                 51        \n",
      "                                                                 \n",
      "=================================================================\n",
      "Total params: 2,701\n",
      "Trainable params: 2,701\n",
      "Non-trainable params: 0\n",
      "_________________________________________________________________\n"
     ]
    }
   ],
   "source": [
    "model5.summary()"
   ]
  },
  {
   "cell_type": "code",
   "execution_count": null,
   "metadata": {},
   "outputs": [
    {
     "ename": "NameError",
     "evalue": "name 'tf' is not defined",
     "output_type": "error",
     "traceback": [
      "\u001b[1;31m---------------------------------------------------------------------------\u001b[0m",
      "\u001b[1;31mNameError\u001b[0m                                 Traceback (most recent call last)",
      "\u001b[1;32m~\\AppData\\Local\\Temp/ipykernel_7548/1976185144.py\u001b[0m in \u001b[0;36m<module>\u001b[1;34m\u001b[0m\n\u001b[1;32m----> 1\u001b[1;33m \u001b[1;32mwith\u001b[0m \u001b[0mtf\u001b[0m\u001b[1;33m.\u001b[0m\u001b[0mdevice\u001b[0m\u001b[1;33m(\u001b[0m\u001b[1;34m\"/gpu:0\"\u001b[0m\u001b[1;33m)\u001b[0m\u001b[1;33m:\u001b[0m\u001b[1;33m\u001b[0m\u001b[1;33m\u001b[0m\u001b[0m\n\u001b[0m\u001b[0;32m      2\u001b[0m     \u001b[0mmodel5\u001b[0m\u001b[1;33m.\u001b[0m\u001b[0mfit\u001b[0m\u001b[1;33m(\u001b[0m\u001b[0mtf\u001b[0m\u001b[1;33m.\u001b[0m\u001b[0mexpand_dims\u001b[0m\u001b[1;33m(\u001b[0m\u001b[0mX_train\u001b[0m\u001b[1;33m,\u001b[0m \u001b[1;33m-\u001b[0m\u001b[1;36m1\u001b[0m\u001b[1;33m)\u001b[0m\u001b[1;33m,\u001b[0m \u001b[0mY_train\u001b[0m\u001b[1;33m,\u001b[0m \u001b[0mverbose\u001b[0m\u001b[1;33m=\u001b[0m\u001b[1;36m1\u001b[0m\u001b[1;33m,\u001b[0m \u001b[0mepochs\u001b[0m\u001b[1;33m=\u001b[0m\u001b[1;36m300\u001b[0m\u001b[1;33m)\u001b[0m\u001b[1;33m\u001b[0m\u001b[1;33m\u001b[0m\u001b[0m\n",
      "\u001b[1;31mNameError\u001b[0m: name 'tf' is not defined"
     ]
    }
   ],
   "source": [
    "with tf.device(\"/gpu:0\"):\n",
    "    model5.fit(tf.expand_dims(X_train, -1), Y_train, verbose=1, epochs=100)"
   ]
  },
  {
   "cell_type": "code",
   "execution_count": null,
   "metadata": {},
   "outputs": [
    {
     "name": "stdout",
     "output_type": "stream",
     "text": [
      "WARNING:tensorflow:6 out of the last 6 calls to <function Model.make_predict_function.<locals>.predict_function at 0x000002145D533D90> triggered tf.function retracing. Tracing is expensive and the excessive number of tracings could be due to (1) creating @tf.function repeatedly in a loop, (2) passing tensors with different shapes, (3) passing Python objects instead of tensors. For (1), please define your @tf.function outside of the loop. For (2), @tf.function has experimental_relax_shapes=True option that relaxes argument shapes that can avoid unnecessary retracing. For (3), please refer to https://www.tensorflow.org/guide/function#controlling_retracing and https://www.tensorflow.org/api_docs/python/tf/function for  more details.\n"
     ]
    },
    {
     "data": {
      "text/plain": [
       "array([[60.885   ],\n",
       "       [64.701065],\n",
       "       [68.517136],\n",
       "       [72.3332  ],\n",
       "       [76.14927 ],\n",
       "       [79.96533 ],\n",
       "       [83.7814  ],\n",
       "       [87.597466],\n",
       "       [91.41353 ],\n",
       "       [95.22959 ]], dtype=float32)"
      ]
     },
     "execution_count": 31,
     "metadata": {},
     "output_type": "execute_result"
    }
   ],
   "source": [
    "model5.predict(X_test)\n",
    "# model5.summary()"
   ]
  },
  {
   "cell_type": "code",
   "execution_count": null,
   "metadata": {},
   "outputs": [
    {
     "data": {
      "image/png": "[encoded data removed]",
      "text/plain": [
       "<IPython.core.display.Image object>"
      ]
     },
     "execution_count": 55,
     "metadata": {},
     "output_type": "execute_result"
    }
   ],
   "source": [
    "tf.keras.utils.plot_model(model=model5,show_shapes=True)"
   ]
  },
  {
   "cell_type": "code",
   "execution_count": null,
   "metadata": {},
   "outputs": [
    {
     "data": {
      "text/plain": [
       "array([[60.885   ],\n",
       "       [64.701065],\n",
       "       [68.517136],\n",
       "       [72.3332  ],\n",
       "       [76.14927 ],\n",
       "       [79.96533 ],\n",
       "       [83.7814  ],\n",
       "       [87.597466],\n",
       "       [91.41353 ],\n",
       "       [95.22959 ]], dtype=float32)"
      ]
     },
     "execution_count": 36,
     "metadata": {},
     "output_type": "execute_result"
    }
   ],
   "source": [
    "#Visualizing model predictions\n",
    "Y_pred = model5.predict(X_test)\n",
    "Y_pred"
   ]
  },
  {
   "cell_type": "code",
   "execution_count": null,
   "metadata": {},
   "outputs": [
    {
     "data": {
      "text/plain": [
       "<tf.Tensor: shape=(10,), dtype=int32, numpy=array([ 70,  74,  78,  82,  86,  90,  94,  98, 102, 106])>"
      ]
     },
     "execution_count": 34,
     "metadata": {},
     "output_type": "execute_result"
    }
   ],
   "source": [
    "Y_test"
   ]
  },
  {
   "cell_type": "code",
   "execution_count": null,
   "metadata": {},
   "outputs": [
    {
     "data": {
      "image/png": "[encoded data removed]",
      "text/plain": [
       "<Figure size 504x720 with 1 Axes>"
      ]
     },
     "metadata": {
      "needs_background": "light"
     },
     "output_type": "display_data"
    }
   ],
   "source": [
    "# Plotting Function\n",
    "\n",
    "def plot_predictions(train_data=X_train,\n",
    "                   train_labels=Y_train,\n",
    "                   test_data=X_test,\n",
    "                   test_labels=Y_test,\n",
    "                   predictions=Y_pred\n",
    "                   ):\n",
    "            plt.figure(figsize=(7,10))\n",
    "            plt.scatter(train_data,train_labels,c='b',label='Training Data')\n",
    "            plt.scatter(test_data,test_labels,c='g',label='Testing Data')\n",
    "            plt.scatter(test_data,predictions,c='r',label='Testing Data')\n",
    "\n",
    "plot_predictions()"
   ]
  }
 ],
 "metadata": {
  "interpreter": {
   "hash": "99e2746e4555f88759d2b41aa7e330c735e7f4d30e7e63d3c75abd8c07d36ad7"
  },
  "kernelspec": {
   "display_name": "gputest",
   "language": "python",
   "name": "gputest"
  },
  "language_info": {
   "codemirror_mode": {
    "name": "ipython",
    "version": 3
   },
   "file_extension": ".py",
   "mimetype": "text/x-python",
   "name": "python",
   "nbconvert_exporter": "python",
   "pygments_lexer": "ipython3",
   "version": "3.10.0"
  },
  "orig_nbformat": 4
 },
 "nbformat": 4,
 "nbformat_minor": 2
}
