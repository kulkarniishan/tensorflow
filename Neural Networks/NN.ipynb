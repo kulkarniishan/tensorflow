{
 "cells": [
  {
   "cell_type": "markdown",
   "metadata": {},
   "source": [
    "#   Introduction to Neural Networks in TensorFlow"
   ]
  },
  {
   "cell_type": "code",
   "execution_count": 11,
   "metadata": {},
   "outputs": [
    {
     "data": {
      "text/plain": [
       "'2.8.0'"
      ]
     },
     "execution_count": 11,
     "metadata": {},
     "output_type": "execute_result"
    }
   ],
   "source": [
    "import tensorflow as tf\n",
    "tf.__version__\n"
   ]
  },
  {
   "cell_type": "code",
   "execution_count": 12,
   "metadata": {},
   "outputs": [],
   "source": [
    "import numpy as np\n",
    "import matplotlib.pyplot as plt\n"
   ]
  },
  {
   "cell_type": "code",
   "execution_count": 13,
   "metadata": {},
   "outputs": [
    {
     "data": {
      "text/plain": [
       "(array([-7., -4., -1.,  2.,  5.,  8., 11., 14.]),\n",
       " array([ 3.,  6.,  9., 12., 15., 18., 21., 24.]))"
      ]
     },
     "execution_count": 13,
     "metadata": {},
     "output_type": "execute_result"
    }
   ],
   "source": [
    "X = np.array([float(i) for i in range(-7, 15, 3)])\n",
    "Y = np.array([float(i+10) for i in range(-7, 15, 3)])\n",
    "X,Y\n"
   ]
  },
  {
   "cell_type": "code",
   "execution_count": 14,
   "metadata": {},
   "outputs": [
    {
     "data": {
      "text/plain": [
       "<matplotlib.collections.PathCollection at 0x239c4e24a30>"
      ]
     },
     "execution_count": 14,
     "metadata": {},
     "output_type": "execute_result"
    },
    {
     "data": {
      "image/png": "[encoded data removed]",
      "text/plain": [
       "<Figure size 432x288 with 1 Axes>"
      ]
     },
     "metadata": {
      "needs_background": "light"
     },
     "output_type": "display_data"
    }
   ],
   "source": [
    "plt.scatter(X, Y)\n"
   ]
  },
  {
   "cell_type": "code",
   "execution_count": 15,
   "metadata": {},
   "outputs": [
    {
     "data": {
      "text/plain": [
       "array([ 3.,  6.,  9., 12., 15., 18., 21., 24.])"
      ]
     },
     "execution_count": 15,
     "metadata": {},
     "output_type": "execute_result"
    }
   ],
   "source": [
    "Y = np.array([float(i+10) for i in range(-7, 15, 3)])\n",
    "Y\n"
   ]
  },
  {
   "cell_type": "code",
   "execution_count": 16,
   "metadata": {},
   "outputs": [
    {
     "data": {
      "text/plain": [
       "array([ 3.,  6.,  9., 12., 15., 18., 21., 24.])"
      ]
     },
     "execution_count": 16,
     "metadata": {},
     "output_type": "execute_result"
    }
   ],
   "source": [
    "X + 10\n"
   ]
  },
  {
   "cell_type": "code",
   "execution_count": 17,
   "metadata": {},
   "outputs": [
    {
     "data": {
      "text/plain": [
       "array([ True,  True,  True,  True,  True,  True,  True,  True])"
      ]
     },
     "execution_count": 17,
     "metadata": {},
     "output_type": "execute_result"
    }
   ],
   "source": [
    "Y == X + 10\n"
   ]
  },
  {
   "cell_type": "markdown",
   "metadata": {},
   "source": [
    "Input and Output Shapes\n"
   ]
  },
  {
   "cell_type": "code",
   "execution_count": 18,
   "metadata": {},
   "outputs": [
    {
     "data": {
      "text/plain": [
       "(<tf.Tensor: shape=(3,), dtype=string, numpy=array([b'bathroom', b'bedroom', b'garage'], dtype=object)>,\n",
       " <tf.Tensor: shape=(1,), dtype=int32, numpy=array([90000])>)"
      ]
     },
     "execution_count": 18,
     "metadata": {},
     "output_type": "execute_result"
    }
   ],
   "source": [
    "#\n",
    "house_info = tf.constant([\"bathroom\", \"bedroom\", \"garage\"])\n",
    "house_price = tf.constant([90000])\n",
    "\n",
    "house_info, house_price\n"
   ]
  },
  {
   "cell_type": "code",
   "execution_count": 19,
   "metadata": {},
   "outputs": [
    {
     "data": {
      "text/plain": [
       "((8,), (8,))"
      ]
     },
     "execution_count": 19,
     "metadata": {},
     "output_type": "execute_result"
    }
   ],
   "source": [
    "input_shape = X.shape\n",
    "output_shape = Y.shape\n",
    "\n",
    "input_shape, output_shape\n"
   ]
  },
  {
   "cell_type": "code",
   "execution_count": 20,
   "metadata": {},
   "outputs": [
    {
     "data": {
      "text/plain": [
       "(<tf.Tensor: shape=(8,), dtype=float64, numpy=array([-7., -4., -1.,  2.,  5.,  8., 11., 14.])>,\n",
       " <tf.Tensor: shape=(8,), dtype=float64, numpy=array([ 3.,  6.,  9., 12., 15., 18., 21., 24.])>)"
      ]
     },
     "execution_count": 20,
     "metadata": {},
     "output_type": "execute_result"
    }
   ],
   "source": [
    "X = tf.constant(X)\n",
    "Y = tf.constant(Y)\n",
    "X, Y\n"
   ]
  },
  {
   "cell_type": "code",
   "execution_count": 21,
   "metadata": {},
   "outputs": [
    {
     "data": {
      "text/plain": [
       "(TensorShape([]), TensorShape([]))"
      ]
     },
     "execution_count": 21,
     "metadata": {},
     "output_type": "execute_result"
    }
   ],
   "source": [
    "X[0].shape, Y[0].shape\n"
   ]
  },
  {
   "cell_type": "markdown",
   "metadata": {},
   "source": [
    "### Creating a Model"
   ]
  },
  {
   "cell_type": "code",
   "execution_count": 22,
   "metadata": {},
   "outputs": [
    {
     "name": "stdout",
     "output_type": "stream",
     "text": [
      "Epoch 1/5\n",
      "1/1 [==============================] - 2s 2s/step - loss: 11.5048 - mean_absolute_error: 11.5048\n",
      "Epoch 2/5\n",
      "1/1 [==============================] - 0s 10ms/step - loss: 11.3723 - mean_absolute_error: 11.3723\n",
      "Epoch 3/5\n",
      "1/1 [==============================] - 0s 7ms/step - loss: 11.2398 - mean_absolute_error: 11.2398\n",
      "Epoch 4/5\n",
      "1/1 [==============================] - 0s 8ms/step - loss: 11.1073 - mean_absolute_error: 11.1073\n",
      "Epoch 5/5\n",
      "1/1 [==============================] - 0s 8ms/step - loss: 10.9748 - mean_absolute_error: 10.9748\n"
     ]
    },
    {
     "data": {
      "text/plain": [
       "<keras.callbacks.History at 0x239dcb3f9a0>"
      ]
     },
     "execution_count": 22,
     "metadata": {},
     "output_type": "execute_result"
    }
   ],
   "source": [
    "tf.random.set_seed(42)\n",
    "\n",
    "model = tf.keras.Sequential([\n",
    "    tf.keras.layers.Dense(1),\n",
    "])\n",
    "\n",
    "model.compile(\n",
    "    loss=tf.keras.losses.mae,\n",
    "    optimizer=tf.keras.optimizers.SGD(),\n",
    "    metrics=tf.keras.metrics.mae\n",
    ")\n",
    "\n",
    "model.fit(tf.expand_dims(X,-1), Y, epochs=5)\n"
   ]
  },
  {
   "cell_type": "code",
   "execution_count": 23,
   "metadata": {},
   "outputs": [
    {
     "data": {
      "text/plain": [
       "array([[12.716021]], dtype=float32)"
      ]
     },
     "execution_count": 23,
     "metadata": {},
     "output_type": "execute_result"
    }
   ],
   "source": [
    "model.predict([17.0])"
   ]
  },
  {
   "cell_type": "markdown",
   "metadata": {},
   "source": [
    "### Improvement 1"
   ]
  },
  {
   "cell_type": "code",
   "execution_count": 33,
   "metadata": {},
   "outputs": [
    {
     "name": "stdout",
     "output_type": "stream",
     "text": [
      "Epoch 1/100\n",
      "1/1 [==============================] - 1s 765ms/step - loss: 11.2219 - mean_absolute_error: 11.2219\n",
      "Epoch 2/100\n",
      "1/1 [==============================] - 0s 15ms/step - loss: 11.0894 - mean_absolute_error: 11.0894\n",
      "Epoch 3/100\n",
      "1/1 [==============================] - 0s 13ms/step - loss: 10.9569 - mean_absolute_error: 10.9569\n",
      "Epoch 4/100\n",
      "1/1 [==============================] - 0s 10ms/step - loss: 10.8244 - mean_absolute_error: 10.8244\n",
      "Epoch 5/100\n",
      "1/1 [==============================] - 0s 10ms/step - loss: 10.6919 - mean_absolute_error: 10.6919\n",
      "Epoch 6/100\n",
      "1/1 [==============================] - 0s 14ms/step - loss: 10.5594 - mean_absolute_error: 10.5594\n",
      "Epoch 7/100\n",
      "1/1 [==============================] - 0s 12ms/step - loss: 10.4269 - mean_absolute_error: 10.4269\n",
      "Epoch 8/100\n",
      "1/1 [==============================] - 0s 13ms/step - loss: 10.2944 - mean_absolute_error: 10.2944\n",
      "Epoch 9/100\n",
      "1/1 [==============================] - 0s 9ms/step - loss: 10.1619 - mean_absolute_error: 10.1619\n",
      "Epoch 10/100\n",
      "1/1 [==============================] - 0s 8ms/step - loss: 10.0294 - mean_absolute_error: 10.0294\n",
      "Epoch 11/100\n",
      "1/1 [==============================] - 0s 10ms/step - loss: 9.8969 - mean_absolute_error: 9.8969\n",
      "Epoch 12/100\n",
      "1/1 [==============================] - 0s 9ms/step - loss: 9.7644 - mean_absolute_error: 9.7644\n",
      "Epoch 13/100\n",
      "1/1 [==============================] - 0s 10ms/step - loss: 9.6319 - mean_absolute_error: 9.6319\n",
      "Epoch 14/100\n",
      "1/1 [==============================] - 0s 10ms/step - loss: 9.4994 - mean_absolute_error: 9.4994\n",
      "Epoch 15/100\n",
      "1/1 [==============================] - 0s 11ms/step - loss: 9.3669 - mean_absolute_error: 9.3669\n",
      "Epoch 16/100\n",
      "1/1 [==============================] - 0s 10ms/step - loss: 9.2344 - mean_absolute_error: 9.2344\n",
      "Epoch 17/100\n",
      "1/1 [==============================] - 0s 10ms/step - loss: 9.1019 - mean_absolute_error: 9.1019\n",
      "Epoch 18/100\n",
      "1/1 [==============================] - 0s 11ms/step - loss: 8.9694 - mean_absolute_error: 8.9694\n",
      "Epoch 19/100\n",
      "1/1 [==============================] - 0s 9ms/step - loss: 8.8369 - mean_absolute_error: 8.8369\n",
      "Epoch 20/100\n",
      "1/1 [==============================] - 0s 9ms/step - loss: 8.7044 - mean_absolute_error: 8.7044\n",
      "Epoch 21/100\n",
      "1/1 [==============================] - 0s 12ms/step - loss: 8.5719 - mean_absolute_error: 8.5719\n",
      "Epoch 22/100\n",
      "1/1 [==============================] - 0s 14ms/step - loss: 8.4394 - mean_absolute_error: 8.4394\n",
      "Epoch 23/100\n",
      "1/1 [==============================] - 0s 10ms/step - loss: 8.3069 - mean_absolute_error: 8.3069\n",
      "Epoch 24/100\n",
      "1/1 [==============================] - 0s 11ms/step - loss: 8.1744 - mean_absolute_error: 8.1744\n",
      "Epoch 25/100\n",
      "1/1 [==============================] - 0s 12ms/step - loss: 8.0419 - mean_absolute_error: 8.0419\n",
      "Epoch 26/100\n",
      "1/1 [==============================] - 0s 13ms/step - loss: 7.9094 - mean_absolute_error: 7.9094\n",
      "Epoch 27/100\n",
      "1/1 [==============================] - 0s 11ms/step - loss: 7.7769 - mean_absolute_error: 7.7769\n",
      "Epoch 28/100\n",
      "1/1 [==============================] - 0s 18ms/step - loss: 7.6444 - mean_absolute_error: 7.6444\n",
      "Epoch 29/100\n",
      "1/1 [==============================] - 0s 13ms/step - loss: 7.5119 - mean_absolute_error: 7.5119\n",
      "Epoch 30/100\n",
      "1/1 [==============================] - 0s 10ms/step - loss: 7.3794 - mean_absolute_error: 7.3794\n",
      "Epoch 31/100\n",
      "1/1 [==============================] - 0s 12ms/step - loss: 7.2750 - mean_absolute_error: 7.2750\n",
      "Epoch 32/100\n",
      "1/1 [==============================] - 0s 9ms/step - loss: 7.2694 - mean_absolute_error: 7.2694\n",
      "Epoch 33/100\n",
      "1/1 [==============================] - 0s 13ms/step - loss: 7.2638 - mean_absolute_error: 7.2638\n",
      "Epoch 34/100\n",
      "1/1 [==============================] - 0s 38ms/step - loss: 7.2581 - mean_absolute_error: 7.2581\n",
      "Epoch 35/100\n",
      "1/1 [==============================] - 0s 33ms/step - loss: 7.2525 - mean_absolute_error: 7.2525\n",
      "Epoch 36/100\n",
      "1/1 [==============================] - 0s 11ms/step - loss: 7.2469 - mean_absolute_error: 7.2469\n",
      "Epoch 37/100\n",
      "1/1 [==============================] - 0s 10ms/step - loss: 7.2413 - mean_absolute_error: 7.2413\n",
      "Epoch 38/100\n",
      "1/1 [==============================] - 0s 10ms/step - loss: 7.2356 - mean_absolute_error: 7.2356\n",
      "Epoch 39/100\n",
      "1/1 [==============================] - 0s 10ms/step - loss: 7.2300 - mean_absolute_error: 7.2300\n",
      "Epoch 40/100\n",
      "1/1 [==============================] - 0s 9ms/step - loss: 7.2244 - mean_absolute_error: 7.2244\n",
      "Epoch 41/100\n",
      "1/1 [==============================] - 0s 8ms/step - loss: 7.2188 - mean_absolute_error: 7.2188\n",
      "Epoch 42/100\n",
      "1/1 [==============================] - 0s 9ms/step - loss: 7.2131 - mean_absolute_error: 7.2131\n",
      "Epoch 43/100\n",
      "1/1 [==============================] - 0s 12ms/step - loss: 7.2075 - mean_absolute_error: 7.2075\n",
      "Epoch 44/100\n",
      "1/1 [==============================] - 0s 13ms/step - loss: 7.2019 - mean_absolute_error: 7.2019\n",
      "Epoch 45/100\n",
      "1/1 [==============================] - 0s 10ms/step - loss: 7.1962 - mean_absolute_error: 7.1962\n",
      "Epoch 46/100\n",
      "1/1 [==============================] - 0s 9ms/step - loss: 7.1906 - mean_absolute_error: 7.1906\n",
      "Epoch 47/100\n",
      "1/1 [==============================] - 0s 8ms/step - loss: 7.1850 - mean_absolute_error: 7.1850\n",
      "Epoch 48/100\n",
      "1/1 [==============================] - 0s 8ms/step - loss: 7.1794 - mean_absolute_error: 7.1794\n",
      "Epoch 49/100\n",
      "1/1 [==============================] - 0s 19ms/step - loss: 7.1737 - mean_absolute_error: 7.1737\n",
      "Epoch 50/100\n",
      "1/1 [==============================] - 0s 10ms/step - loss: 7.1681 - mean_absolute_error: 7.1681\n",
      "Epoch 51/100\n",
      "1/1 [==============================] - 0s 10ms/step - loss: 7.1625 - mean_absolute_error: 7.1625\n",
      "Epoch 52/100\n",
      "1/1 [==============================] - 0s 10ms/step - loss: 7.1569 - mean_absolute_error: 7.1569\n",
      "Epoch 53/100\n",
      "1/1 [==============================] - 0s 9ms/step - loss: 7.1512 - mean_absolute_error: 7.1512\n",
      "Epoch 54/100\n",
      "1/1 [==============================] - 0s 12ms/step - loss: 7.1456 - mean_absolute_error: 7.1456\n",
      "Epoch 55/100\n",
      "1/1 [==============================] - 0s 10ms/step - loss: 7.1400 - mean_absolute_error: 7.1400\n",
      "Epoch 56/100\n",
      "1/1 [==============================] - 0s 9ms/step - loss: 7.1344 - mean_absolute_error: 7.1344\n",
      "Epoch 57/100\n",
      "1/1 [==============================] - 0s 12ms/step - loss: 7.1287 - mean_absolute_error: 7.1287\n",
      "Epoch 58/100\n",
      "1/1 [==============================] - 0s 12ms/step - loss: 7.1231 - mean_absolute_error: 7.1231\n",
      "Epoch 59/100\n",
      "1/1 [==============================] - 0s 13ms/step - loss: 7.1175 - mean_absolute_error: 7.1175\n",
      "Epoch 60/100\n",
      "1/1 [==============================] - 0s 9ms/step - loss: 7.1119 - mean_absolute_error: 7.1119\n",
      "Epoch 61/100\n",
      "1/1 [==============================] - 0s 8ms/step - loss: 7.1062 - mean_absolute_error: 7.1062\n",
      "Epoch 62/100\n",
      "1/1 [==============================] - 0s 8ms/step - loss: 7.1006 - mean_absolute_error: 7.1006\n",
      "Epoch 63/100\n",
      "1/1 [==============================] - 0s 9ms/step - loss: 7.0950 - mean_absolute_error: 7.0950\n",
      "Epoch 64/100\n",
      "1/1 [==============================] - 0s 12ms/step - loss: 7.0894 - mean_absolute_error: 7.0894\n",
      "Epoch 65/100\n",
      "1/1 [==============================] - 0s 15ms/step - loss: 7.0838 - mean_absolute_error: 7.0838\n",
      "Epoch 66/100\n",
      "1/1 [==============================] - 0s 10ms/step - loss: 7.0781 - mean_absolute_error: 7.0781\n",
      "Epoch 67/100\n",
      "1/1 [==============================] - 0s 11ms/step - loss: 7.0725 - mean_absolute_error: 7.0725\n",
      "Epoch 68/100\n",
      "1/1 [==============================] - 0s 10ms/step - loss: 7.0669 - mean_absolute_error: 7.0669\n",
      "Epoch 69/100\n",
      "1/1 [==============================] - 0s 11ms/step - loss: 7.0613 - mean_absolute_error: 7.0613\n",
      "Epoch 70/100\n",
      "1/1 [==============================] - 0s 12ms/step - loss: 7.0556 - mean_absolute_error: 7.0556\n",
      "Epoch 71/100\n",
      "1/1 [==============================] - 0s 11ms/step - loss: 7.0500 - mean_absolute_error: 7.0500\n",
      "Epoch 72/100\n",
      "1/1 [==============================] - 0s 11ms/step - loss: 7.0444 - mean_absolute_error: 7.0444\n",
      "Epoch 73/100\n",
      "1/1 [==============================] - 0s 9ms/step - loss: 7.0388 - mean_absolute_error: 7.0388\n",
      "Epoch 74/100\n",
      "1/1 [==============================] - 0s 12ms/step - loss: 7.0331 - mean_absolute_error: 7.0331\n",
      "Epoch 75/100\n",
      "1/1 [==============================] - 0s 12ms/step - loss: 7.0275 - mean_absolute_error: 7.0275\n",
      "Epoch 76/100\n",
      "1/1 [==============================] - 0s 11ms/step - loss: 7.0219 - mean_absolute_error: 7.0219\n",
      "Epoch 77/100\n",
      "1/1 [==============================] - 0s 21ms/step - loss: 7.0163 - mean_absolute_error: 7.0163\n",
      "Epoch 78/100\n",
      "1/1 [==============================] - 0s 11ms/step - loss: 7.0106 - mean_absolute_error: 7.0106\n",
      "Epoch 79/100\n",
      "1/1 [==============================] - 0s 9ms/step - loss: 7.0050 - mean_absolute_error: 7.0050\n",
      "Epoch 80/100\n",
      "1/1 [==============================] - 0s 10ms/step - loss: 6.9994 - mean_absolute_error: 6.9994\n",
      "Epoch 81/100\n",
      "1/1 [==============================] - 0s 10ms/step - loss: 6.9938 - mean_absolute_error: 6.9938\n",
      "Epoch 82/100\n",
      "1/1 [==============================] - 0s 10ms/step - loss: 6.9881 - mean_absolute_error: 6.9881\n",
      "Epoch 83/100\n",
      "1/1 [==============================] - 0s 10ms/step - loss: 6.9825 - mean_absolute_error: 6.9825\n",
      "Epoch 84/100\n",
      "1/1 [==============================] - 0s 11ms/step - loss: 6.9769 - mean_absolute_error: 6.9769\n",
      "Epoch 85/100\n",
      "1/1 [==============================] - 0s 12ms/step - loss: 6.9713 - mean_absolute_error: 6.9713\n",
      "Epoch 86/100\n",
      "1/1 [==============================] - 0s 11ms/step - loss: 6.9656 - mean_absolute_error: 6.9656\n",
      "Epoch 87/100\n",
      "1/1 [==============================] - 0s 11ms/step - loss: 6.9600 - mean_absolute_error: 6.9600\n",
      "Epoch 88/100\n",
      "1/1 [==============================] - 0s 11ms/step - loss: 6.9544 - mean_absolute_error: 6.9544\n",
      "Epoch 89/100\n",
      "1/1 [==============================] - 0s 17ms/step - loss: 6.9488 - mean_absolute_error: 6.9488\n",
      "Epoch 90/100\n",
      "1/1 [==============================] - 0s 10ms/step - loss: 6.9431 - mean_absolute_error: 6.9431\n",
      "Epoch 91/100\n",
      "1/1 [==============================] - 0s 10ms/step - loss: 6.9375 - mean_absolute_error: 6.9375\n",
      "Epoch 92/100\n",
      "1/1 [==============================] - 0s 9ms/step - loss: 6.9319 - mean_absolute_error: 6.9319\n",
      "Epoch 93/100\n",
      "1/1 [==============================] - 0s 9ms/step - loss: 6.9262 - mean_absolute_error: 6.9262\n",
      "Epoch 94/100\n",
      "1/1 [==============================] - 0s 10ms/step - loss: 6.9206 - mean_absolute_error: 6.9206\n",
      "Epoch 95/100\n",
      "1/1 [==============================] - 0s 11ms/step - loss: 6.9150 - mean_absolute_error: 6.9150\n",
      "Epoch 96/100\n",
      "1/1 [==============================] - 0s 10ms/step - loss: 6.9094 - mean_absolute_error: 6.9094\n",
      "Epoch 97/100\n",
      "1/1 [==============================] - 0s 8ms/step - loss: 6.9038 - mean_absolute_error: 6.9038\n",
      "Epoch 98/100\n",
      "1/1 [==============================] - 0s 12ms/step - loss: 6.8981 - mean_absolute_error: 6.8981\n",
      "Epoch 99/100\n",
      "1/1 [==============================] - 0s 10ms/step - loss: 6.8925 - mean_absolute_error: 6.8925\n",
      "Epoch 100/100\n",
      "1/1 [==============================] - 0s 11ms/step - loss: 6.8869 - mean_absolute_error: 6.8869\n"
     ]
    }
   ],
   "source": [
    "\n",
    "model1 = tf.keras.Sequential([\n",
    "    tf.keras.layers.Dense(1)\n",
    "])\n",
    "\n",
    "model1.compile(loss=tf.keras.losses.mae,\n",
    "              optimizer=tf.keras.optimizers.SGD(),\n",
    "              metrics=tf.keras.metrics.mae\n",
    "              )\n",
    "with tf.device(\"/gpu:0\"):\n",
    "    model1.fit(tf.expand_dims(X, -1), Y, epochs=100)\n"
   ]
  },
  {
   "cell_type": "code",
   "execution_count": 34,
   "metadata": {},
   "outputs": [
    {
     "data": {
      "text/plain": [
       "array([[29.739855]], dtype=float32)"
      ]
     },
     "execution_count": 34,
     "metadata": {},
     "output_type": "execute_result"
    }
   ],
   "source": [
    "model1.predict([17.0])"
   ]
  },
  {
   "cell_type": "markdown",
   "metadata": {},
   "source": [
    "### Improvement 2"
   ]
  },
  {
   "cell_type": "code",
   "execution_count": null,
   "metadata": {},
   "outputs": [],
   "source": [
    "\n",
    "model1 = tf.keras.Sequential([\n",
    "    tf.keras.layers.Dense(100, activation=tf.keras.activations.relu),\n",
    "    tf.keras.layers.Dense(1)\n",
    "])\n",
    "\n",
    "model1.compile(loss=tf.keras.losses.mae,\n",
    "               optimizer=tf.keras.optimizers.SGD(),\n",
    "               metrics=tf.keras.metrics.mae\n",
    "               )\n",
    "with tf.device(\"/gpu:0\"):\n",
    "    model1.fit(tf.expand_dims(X, -1), Y, epochs=100)\n"
   ]
  }
 ],
 "metadata": {
  "interpreter": {
   "hash": "99e2746e4555f88759d2b41aa7e330c735e7f4d30e7e63d3c75abd8c07d36ad7"
  },
  "kernelspec": {
   "display_name": "Python 3.10.0 ('gputest')",
   "language": "python",
   "name": "python3"
  },
  "language_info": {
   "codemirror_mode": {
    "name": "ipython",
    "version": 3
   },
   "file_extension": ".py",
   "mimetype": "text/x-python",
   "name": "python",
   "nbconvert_exporter": "python",
   "pygments_lexer": "ipython3",
   "version": "3.10.0"
  },
  "orig_nbformat": 4
 },
 "nbformat": 4,
 "nbformat_minor": 2
}
