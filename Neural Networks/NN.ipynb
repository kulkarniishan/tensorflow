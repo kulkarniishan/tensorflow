{
 "cells": [
  {
   "cell_type": "markdown",
   "metadata": {},
   "source": [
    "#   Introduction to Neural Networks in TensorFlow"
   ]
  },
  {
   "cell_type": "code",
   "execution_count": 11,
   "metadata": {},
   "outputs": [
    {
     "data": {
      "text/plain": [
       "'2.8.0'"
      ]
     },
     "execution_count": 11,
     "metadata": {},
     "output_type": "execute_result"
    }
   ],
   "source": [
    "import tensorflow as tf\n",
    "tf.__version__\n"
   ]
  },
  {
   "cell_type": "code",
   "execution_count": 12,
   "metadata": {},
   "outputs": [],
   "source": [
    "import numpy as np\n",
    "import matplotlib.pyplot as plt\n"
   ]
  },
  {
   "cell_type": "code",
   "execution_count": 13,
   "metadata": {},
   "outputs": [
    {
     "data": {
      "text/plain": [
       "(array([-7., -4., -1.,  2.,  5.,  8., 11., 14.]),\n",
       " array([ 3.,  6.,  9., 12., 15., 18., 21., 24.]))"
      ]
     },
     "execution_count": 13,
     "metadata": {},
     "output_type": "execute_result"
    }
   ],
   "source": [
    "X = np.array([float(i) for i in range(-7, 15, 3)])\n",
    "Y = np.array([float(i+10) for i in range(-7, 15, 3)])\n",
    "X,Y\n"
   ]
  },
  {
   "cell_type": "code",
   "execution_count": 14,
   "metadata": {},
   "outputs": [
    {
     "data": {
      "text/plain": [
       "<matplotlib.collections.PathCollection at 0x239c4e24a30>"
      ]
     },
     "execution_count": 14,
     "metadata": {},
     "output_type": "execute_result"
    },
    {
     "data": {
      "image/png": "[encoded data removed]",
      "text/plain": [
       "<Figure size 432x288 with 1 Axes>"
      ]
     },
     "metadata": {
      "needs_background": "light"
     },
     "output_type": "display_data"
    }
   ],
   "source": [
    "plt.scatter(X, Y)\n"
   ]
  },
  {
   "cell_type": "code",
   "execution_count": 15,
   "metadata": {},
   "outputs": [
    {
     "data": {
      "text/plain": [
       "array([ 3.,  6.,  9., 12., 15., 18., 21., 24.])"
      ]
     },
     "execution_count": 15,
     "metadata": {},
     "output_type": "execute_result"
    }
   ],
   "source": [
    "Y = np.array([float(i+10) for i in range(-7, 15, 3)])\n",
    "Y\n"
   ]
  },
  {
   "cell_type": "code",
   "execution_count": 16,
   "metadata": {},
   "outputs": [
    {
     "data": {
      "text/plain": [
       "array([ 3.,  6.,  9., 12., 15., 18., 21., 24.])"
      ]
     },
     "execution_count": 16,
     "metadata": {},
     "output_type": "execute_result"
    }
   ],
   "source": [
    "X + 10\n"
   ]
  },
  {
   "cell_type": "code",
   "execution_count": 17,
   "metadata": {},
   "outputs": [
    {
     "data": {
      "text/plain": [
       "array([ True,  True,  True,  True,  True,  True,  True,  True])"
      ]
     },
     "execution_count": 17,
     "metadata": {},
     "output_type": "execute_result"
    }
   ],
   "source": [
    "Y == X + 10\n"
   ]
  },
  {
   "cell_type": "markdown",
   "metadata": {},
   "source": [
    "Input and Output Shapes\n"
   ]
  },
  {
   "cell_type": "code",
   "execution_count": 18,
   "metadata": {},
   "outputs": [
    {
     "data": {
      "text/plain": [
       "(<tf.Tensor: shape=(3,), dtype=string, numpy=array([b'bathroom', b'bedroom', b'garage'], dtype=object)>,\n",
       " <tf.Tensor: shape=(1,), dtype=int32, numpy=array([90000])>)"
      ]
     },
     "execution_count": 18,
     "metadata": {},
     "output_type": "execute_result"
    }
   ],
   "source": [
    "#\n",
    "house_info = tf.constant([\"bathroom\", \"bedroom\", \"garage\"])\n",
    "house_price = tf.constant([90000])\n",
    "\n",
    "house_info, house_price\n"
   ]
  },
  {
   "cell_type": "code",
   "execution_count": 19,
   "metadata": {},
   "outputs": [
    {
     "data": {
      "text/plain": [
       "((8,), (8,))"
      ]
     },
     "execution_count": 19,
     "metadata": {},
     "output_type": "execute_result"
    }
   ],
   "source": [
    "input_shape = X.shape\n",
    "output_shape = Y.shape\n",
    "\n",
    "input_shape, output_shape\n"
   ]
  },
  {
   "cell_type": "code",
   "execution_count": 20,
   "metadata": {},
   "outputs": [
    {
     "data": {
      "text/plain": [
       "(<tf.Tensor: shape=(8,), dtype=float64, numpy=array([-7., -4., -1.,  2.,  5.,  8., 11., 14.])>,\n",
       " <tf.Tensor: shape=(8,), dtype=float64, numpy=array([ 3.,  6.,  9., 12., 15., 18., 21., 24.])>)"
      ]
     },
     "execution_count": 20,
     "metadata": {},
     "output_type": "execute_result"
    }
   ],
   "source": [
    "X = tf.constant(X)\n",
    "Y = tf.constant(Y)\n",
    "X, Y\n"
   ]
  },
  {
   "cell_type": "code",
   "execution_count": 21,
   "metadata": {},
   "outputs": [
    {
     "data": {
      "text/plain": [
       "(TensorShape([]), TensorShape([]))"
      ]
     },
     "execution_count": 21,
     "metadata": {},
     "output_type": "execute_result"
    }
   ],
   "source": [
    "X[0].shape, Y[0].shape\n"
   ]
  },
  {
   "cell_type": "markdown",
   "metadata": {},
   "source": [
    "### Creating a Model"
   ]
  },
  {
   "cell_type": "code",
   "execution_count": 22,
   "metadata": {},
   "outputs": [
    {
     "name": "stdout",
     "output_type": "stream",
     "text": [
      "Epoch 1/5\n",
      "1/1 [==============================] - 2s 2s/step - loss: 11.5048 - mean_absolute_error: 11.5048\n",
      "Epoch 2/5\n",
      "1/1 [==============================] - 0s 10ms/step - loss: 11.3723 - mean_absolute_error: 11.3723\n",
      "Epoch 3/5\n",
      "1/1 [==============================] - 0s 7ms/step - loss: 11.2398 - mean_absolute_error: 11.2398\n",
      "Epoch 4/5\n",
      "1/1 [==============================] - 0s 8ms/step - loss: 11.1073 - mean_absolute_error: 11.1073\n",
      "Epoch 5/5\n",
      "1/1 [==============================] - 0s 8ms/step - loss: 10.9748 - mean_absolute_error: 10.9748\n"
     ]
    },
    {
     "data": {
      "text/plain": [
       "<keras.callbacks.History at 0x239dcb3f9a0>"
      ]
     },
     "execution_count": 22,
     "metadata": {},
     "output_type": "execute_result"
    }
   ],
   "source": [
    "tf.random.set_seed(42)\n",
    "\n",
    "model = tf.keras.Sequential([\n",
    "    tf.keras.layers.Dense(1),\n",
    "])\n",
    "\n",
    "model.compile(\n",
    "    loss=tf.keras.losses.mae,\n",
    "    optimizer=tf.keras.optimizers.SGD(),\n",
    "    metrics=tf.keras.metrics.mae\n",
    ")\n",
    "\n",
    "model.fit(tf.expand_dims(X,-1), Y, epochs=5)\n"
   ]
  },
  {
   "cell_type": "code",
   "execution_count": 23,
   "metadata": {},
   "outputs": [
    {
     "data": {
      "text/plain": [
       "array([[12.716021]], dtype=float32)"
      ]
     },
     "execution_count": 23,
     "metadata": {},
     "output_type": "execute_result"
    }
   ],
   "source": [
    "model.predict([17.0])"
   ]
  },
  {
   "cell_type": "markdown",
   "metadata": {},
   "source": [
    "### Improvement 1"
   ]
  },
  {
   "cell_type": "code",
   "execution_count": 33,
   "metadata": {},
   "outputs": [
    {
     "name": "stdout",
     "output_type": "stream",
     "text": [
      "Epoch 1/100\n",
      "1/1 [==============================] - 1s 765ms/step - loss: 11.2219 - mean_absolute_error: 11.2219\n",
      "Epoch 2/100\n",
      "1/1 [==============================] - 0s 15ms/step - loss: 11.0894 - mean_absolute_error: 11.0894\n",
      "Epoch 3/100\n",
      "1/1 [==============================] - 0s 13ms/step - loss: 10.9569 - mean_absolute_error: 10.9569\n",
      "Epoch 4/100\n",
      "1/1 [==============================] - 0s 10ms/step - loss: 10.8244 - mean_absolute_error: 10.8244\n",
      "Epoch 5/100\n",
      "1/1 [==============================] - 0s 10ms/step - loss: 10.6919 - mean_absolute_error: 10.6919\n",
      "Epoch 6/100\n",
      "1/1 [==============================] - 0s 14ms/step - loss: 10.5594 - mean_absolute_error: 10.5594\n",
      "Epoch 7/100\n",
      "1/1 [==============================] - 0s 12ms/step - loss: 10.4269 - mean_absolute_error: 10.4269\n",
      "Epoch 8/100\n",
      "1/1 [==============================] - 0s 13ms/step - loss: 10.2944 - mean_absolute_error: 10.2944\n",
      "Epoch 9/100\n",
      "1/1 [==============================] - 0s 9ms/step - loss: 10.1619 - mean_absolute_error: 10.1619\n",
      "Epoch 10/100\n",
      "1/1 [==============================] - 0s 8ms/step - loss: 10.0294 - mean_absolute_error: 10.0294\n",
      "Epoch 11/100\n",
      "1/1 [==============================] - 0s 10ms/step - loss: 9.8969 - mean_absolute_error: 9.8969\n",
      "Epoch 12/100\n",
      "1/1 [==============================] - 0s 9ms/step - loss: 9.7644 - mean_absolute_error: 9.7644\n",
      "Epoch 13/100\n",
      "1/1 [==============================] - 0s 10ms/step - loss: 9.6319 - mean_absolute_error: 9.6319\n",
      "Epoch 14/100\n",
      "1/1 [==============================] - 0s 10ms/step - loss: 9.4994 - mean_absolute_error: 9.4994\n",
      "Epoch 15/100\n",
      "1/1 [==============================] - 0s 11ms/step - loss: 9.3669 - mean_absolute_error: 9.3669\n",
      "Epoch 16/100\n",
      "1/1 [==============================] - 0s 10ms/step - loss: 9.2344 - mean_absolute_error: 9.2344\n",
      "Epoch 17/100\n",
      "1/1 [==============================] - 0s 10ms/step - loss: 9.1019 - mean_absolute_error: 9.1019\n",
      "Epoch 18/100\n",
      "1/1 [==============================] - 0s 11ms/step - loss: 8.9694 - mean_absolute_error: 8.9694\n",
      "Epoch 19/100\n",
      "1/1 [==============================] - 0s 9ms/step - loss: 8.8369 - mean_absolute_error: 8.8369\n",
      "Epoch 20/100\n",
      "1/1 [==============================] - 0s 9ms/step - loss: 8.7044 - mean_absolute_error: 8.7044\n",
      "Epoch 21/100\n",
      "1/1 [==============================] - 0s 12ms/step - loss: 8.5719 - mean_absolute_error: 8.5719\n",
      "Epoch 22/100\n",
      "1/1 [==============================] - 0s 14ms/step - loss: 8.4394 - mean_absolute_error: 8.4394\n",
      "Epoch 23/100\n",
      "1/1 [==============================] - 0s 10ms/step - loss: 8.3069 - mean_absolute_error: 8.3069\n",
      "Epoch 24/100\n",
      "1/1 [==============================] - 0s 11ms/step - loss: 8.1744 - mean_absolute_error: 8.1744\n",
      "Epoch 25/100\n",
      "1/1 [==============================] - 0s 12ms/step - loss: 8.0419 - mean_absolute_error: 8.0419\n",
      "Epoch 26/100\n",
      "1/1 [==============================] - 0s 13ms/step - loss: 7.9094 - mean_absolute_error: 7.9094\n",
      "Epoch 27/100\n",
      "1/1 [==============================] - 0s 11ms/step - loss: 7.7769 - mean_absolute_error: 7.7769\n",
      "Epoch 28/100\n",
      "1/1 [==============================] - 0s 18ms/step - loss: 7.6444 - mean_absolute_error: 7.6444\n",
      "Epoch 29/100\n",
      "1/1 [==============================] - 0s 13ms/step - loss: 7.5119 - mean_absolute_error: 7.5119\n",
      "Epoch 30/100\n",
      "1/1 [==============================] - 0s 10ms/step - loss: 7.3794 - mean_absolute_error: 7.3794\n",
      "Epoch 31/100\n",
      "1/1 [==============================] - 0s 12ms/step - loss: 7.2750 - mean_absolute_error: 7.2750\n",
      "Epoch 32/100\n",
      "1/1 [==============================] - 0s 9ms/step - loss: 7.2694 - mean_absolute_error: 7.2694\n",
      "Epoch 33/100\n",
      "1/1 [==============================] - 0s 13ms/step - loss: 7.2638 - mean_absolute_error: 7.2638\n",
      "Epoch 34/100\n",
      "1/1 [==============================] - 0s 38ms/step - loss: 7.2581 - mean_absolute_error: 7.2581\n",
      "Epoch 35/100\n",
      "1/1 [==============================] - 0s 33ms/step - loss: 7.2525 - mean_absolute_error: 7.2525\n",
      "Epoch 36/100\n",
      "1/1 [==============================] - 0s 11ms/step - loss: 7.2469 - mean_absolute_error: 7.2469\n",
      "Epoch 37/100\n",
      "1/1 [==============================] - 0s 10ms/step - loss: 7.2413 - mean_absolute_error: 7.2413\n",
      "Epoch 38/100\n",
      "1/1 [==============================] - 0s 10ms/step - loss: 7.2356 - mean_absolute_error: 7.2356\n",
      "Epoch 39/100\n",
      "1/1 [==============================] - 0s 10ms/step - loss: 7.2300 - mean_absolute_error: 7.2300\n",
      "Epoch 40/100\n",
      "1/1 [==============================] - 0s 9ms/step - loss: 7.2244 - mean_absolute_error: 7.2244\n",
      "Epoch 41/100\n",
      "1/1 [==============================] - 0s 8ms/step - loss: 7.2188 - mean_absolute_error: 7.2188\n",
      "Epoch 42/100\n",
      "1/1 [==============================] - 0s 9ms/step - loss: 7.2131 - mean_absolute_error: 7.2131\n",
      "Epoch 43/100\n",
      "1/1 [==============================] - 0s 12ms/step - loss: 7.2075 - mean_absolute_error: 7.2075\n",
      "Epoch 44/100\n",
      "1/1 [==============================] - 0s 13ms/step - loss: 7.2019 - mean_absolute_error: 7.2019\n",
      "Epoch 45/100\n",
      "1/1 [==============================] - 0s 10ms/step - loss: 7.1962 - mean_absolute_error: 7.1962\n",
      "Epoch 46/100\n",
      "1/1 [==============================] - 0s 9ms/step - loss: 7.1906 - mean_absolute_error: 7.1906\n",
      "Epoch 47/100\n",
      "1/1 [==============================] - 0s 8ms/step - loss: 7.1850 - mean_absolute_error: 7.1850\n",
      "Epoch 48/100\n",
      "1/1 [==============================] - 0s 8ms/step - loss: 7.1794 - mean_absolute_error: 7.1794\n",
      "Epoch 49/100\n",
      "1/1 [==============================] - 0s 19ms/step - loss: 7.1737 - mean_absolute_error: 7.1737\n",
      "Epoch 50/100\n",
      "1/1 [==============================] - 0s 10ms/step - loss: 7.1681 - mean_absolute_error: 7.1681\n",
      "Epoch 51/100\n",
      "1/1 [==============================] - 0s 10ms/step - loss: 7.1625 - mean_absolute_error: 7.1625\n",
      "Epoch 52/100\n",
      "1/1 [==============================] - 0s 10ms/step - loss: 7.1569 - mean_absolute_error: 7.1569\n",
      "Epoch 53/100\n",
      "1/1 [==============================] - 0s 9ms/step - loss: 7.1512 - mean_absolute_error: 7.1512\n",
      "Epoch 54/100\n",
      "1/1 [==============================] - 0s 12ms/step - loss: 7.1456 - mean_absolute_error: 7.1456\n",
      "Epoch 55/100\n",
      "1/1 [==============================] - 0s 10ms/step - loss: 7.1400 - mean_absolute_error: 7.1400\n",
      "Epoch 56/100\n",
      "1/1 [==============================] - 0s 9ms/step - loss: 7.1344 - mean_absolute_error: 7.1344\n",
      "Epoch 57/100\n",
      "1/1 [==============================] - 0s 12ms/step - loss: 7.1287 - mean_absolute_error: 7.1287\n",
      "Epoch 58/100\n",
      "1/1 [==============================] - 0s 12ms/step - loss: 7.1231 - mean_absolute_error: 7.1231\n",
      "Epoch 59/100\n",
      "1/1 [==============================] - 0s 13ms/step - loss: 7.1175 - mean_absolute_error: 7.1175\n",
      "Epoch 60/100\n",
      "1/1 [==============================] - 0s 9ms/step - loss: 7.1119 - mean_absolute_error: 7.1119\n",
      "Epoch 61/100\n",
      "1/1 [==============================] - 0s 8ms/step - loss: 7.1062 - mean_absolute_error: 7.1062\n",
      "Epoch 62/100\n",
      "1/1 [==============================] - 0s 8ms/step - loss: 7.1006 - mean_absolute_error: 7.1006\n",
      "Epoch 63/100\n",
      "1/1 [==============================] - 0s 9ms/step - loss: 7.0950 - mean_absolute_error: 7.0950\n",
      "Epoch 64/100\n",
      "1/1 [==============================] - 0s 12ms/step - loss: 7.0894 - mean_absolute_error: 7.0894\n",
      "Epoch 65/100\n",
      "1/1 [==============================] - 0s 15ms/step - loss: 7.0838 - mean_absolute_error: 7.0838\n",
      "Epoch 66/100\n",
      "1/1 [==============================] - 0s 10ms/step - loss: 7.0781 - mean_absolute_error: 7.0781\n",
      "Epoch 67/100\n",
      "1/1 [==============================] - 0s 11ms/step - loss: 7.0725 - mean_absolute_error: 7.0725\n",
      "Epoch 68/100\n",
      "1/1 [==============================] - 0s 10ms/step - loss: 7.0669 - mean_absolute_error: 7.0669\n",
      "Epoch 69/100\n",
      "1/1 [==============================] - 0s 11ms/step - loss: 7.0613 - mean_absolute_error: 7.0613\n",
      "Epoch 70/100\n",
      "1/1 [==============================] - 0s 12ms/step - loss: 7.0556 - mean_absolute_error: 7.0556\n",
      "Epoch 71/100\n",
      "1/1 [==============================] - 0s 11ms/step - loss: 7.0500 - mean_absolute_error: 7.0500\n",
      "Epoch 72/100\n",
      "1/1 [==============================] - 0s 11ms/step - loss: 7.0444 - mean_absolute_error: 7.0444\n",
      "Epoch 73/100\n",
      "1/1 [==============================] - 0s 9ms/step - loss: 7.0388 - mean_absolute_error: 7.0388\n",
      "Epoch 74/100\n",
      "1/1 [==============================] - 0s 12ms/step - loss: 7.0331 - mean_absolute_error: 7.0331\n",
      "Epoch 75/100\n",
      "1/1 [==============================] - 0s 12ms/step - loss: 7.0275 - mean_absolute_error: 7.0275\n",
      "Epoch 76/100\n",
      "1/1 [==============================] - 0s 11ms/step - loss: 7.0219 - mean_absolute_error: 7.0219\n",
      "Epoch 77/100\n",
      "1/1 [==============================] - 0s 21ms/step - loss: 7.0163 - mean_absolute_error: 7.0163\n",
      "Epoch 78/100\n",
      "1/1 [==============================] - 0s 11ms/step - loss: 7.0106 - mean_absolute_error: 7.0106\n",
      "Epoch 79/100\n",
      "1/1 [==============================] - 0s 9ms/step - loss: 7.0050 - mean_absolute_error: 7.0050\n",
      "Epoch 80/100\n",
      "1/1 [==============================] - 0s 10ms/step - loss: 6.9994 - mean_absolute_error: 6.9994\n",
      "Epoch 81/100\n",
      "1/1 [==============================] - 0s 10ms/step - loss: 6.9938 - mean_absolute_error: 6.9938\n",
      "Epoch 82/100\n",
      "1/1 [==============================] - 0s 10ms/step - loss: 6.9881 - mean_absolute_error: 6.9881\n",
      "Epoch 83/100\n",
      "1/1 [==============================] - 0s 10ms/step - loss: 6.9825 - mean_absolute_error: 6.9825\n",
      "Epoch 84/100\n",
      "1/1 [==============================] - 0s 11ms/step - loss: 6.9769 - mean_absolute_error: 6.9769\n",
      "Epoch 85/100\n",
      "1/1 [==============================] - 0s 12ms/step - loss: 6.9713 - mean_absolute_error: 6.9713\n",
      "Epoch 86/100\n",
      "1/1 [==============================] - 0s 11ms/step - loss: 6.9656 - mean_absolute_error: 6.9656\n",
      "Epoch 87/100\n",
      "1/1 [==============================] - 0s 11ms/step - loss: 6.9600 - mean_absolute_error: 6.9600\n",
      "Epoch 88/100\n",
      "1/1 [==============================] - 0s 11ms/step - loss: 6.9544 - mean_absolute_error: 6.9544\n",
      "Epoch 89/100\n",
      "1/1 [==============================] - 0s 17ms/step - loss: 6.9488 - mean_absolute_error: 6.9488\n",
      "Epoch 90/100\n",
      "1/1 [==============================] - 0s 10ms/step - loss: 6.9431 - mean_absolute_error: 6.9431\n",
      "Epoch 91/100\n",
      "1/1 [==============================] - 0s 10ms/step - loss: 6.9375 - mean_absolute_error: 6.9375\n",
      "Epoch 92/100\n",
      "1/1 [==============================] - 0s 9ms/step - loss: 6.9319 - mean_absolute_error: 6.9319\n",
      "Epoch 93/100\n",
      "1/1 [==============================] - 0s 9ms/step - loss: 6.9262 - mean_absolute_error: 6.9262\n",
      "Epoch 94/100\n",
      "1/1 [==============================] - 0s 10ms/step - loss: 6.9206 - mean_absolute_error: 6.9206\n",
      "Epoch 95/100\n",
      "1/1 [==============================] - 0s 11ms/step - loss: 6.9150 - mean_absolute_error: 6.9150\n",
      "Epoch 96/100\n",
      "1/1 [==============================] - 0s 10ms/step - loss: 6.9094 - mean_absolute_error: 6.9094\n",
      "Epoch 97/100\n",
      "1/1 [==============================] - 0s 8ms/step - loss: 6.9038 - mean_absolute_error: 6.9038\n",
      "Epoch 98/100\n",
      "1/1 [==============================] - 0s 12ms/step - loss: 6.8981 - mean_absolute_error: 6.8981\n",
      "Epoch 99/100\n",
      "1/1 [==============================] - 0s 10ms/step - loss: 6.8925 - mean_absolute_error: 6.8925\n",
      "Epoch 100/100\n",
      "1/1 [==============================] - 0s 11ms/step - loss: 6.8869 - mean_absolute_error: 6.8869\n"
     ]
    }
   ],
   "source": [
    "\n",
    "model1 = tf.keras.Sequential([\n",
    "    tf.keras.layers.Dense(1)\n",
    "])\n",
    "\n",
    "model1.compile(loss=tf.keras.losses.mae,\n",
    "              optimizer=tf.keras.optimizers.SGD(),\n",
    "              metrics=tf.keras.metrics.mae\n",
    "              )\n",
    "with tf.device(\"/gpu:0\"):\n",
    "    model1.fit(tf.expand_dims(X, -1), Y, epochs=100)\n"
   ]
  },
  {
   "cell_type": "code",
   "execution_count": 34,
   "metadata": {},
   "outputs": [
    {
     "data": {
      "text/plain": [
       "array([[29.739855]], dtype=float32)"
      ]
     },
     "execution_count": 34,
     "metadata": {},
     "output_type": "execute_result"
    }
   ],
   "source": [
    "model1.predict([17.0])"
   ]
  },
  {
   "cell_type": "markdown",
   "metadata": {},
   "source": [
    "### Improvement 2"
   ]
  },
  {
   "cell_type": "code",
   "execution_count": 35,
   "metadata": {},
   "outputs": [
    {
     "name": "stdout",
     "output_type": "stream",
     "text": [
      "Epoch 1/100\n",
      "1/1 [==============================] - 0s 454ms/step - loss: 12.3193 - mean_absolute_error: 12.3193\n",
      "Epoch 2/100\n",
      "1/1 [==============================] - 0s 8ms/step - loss: 11.7804 - mean_absolute_error: 11.7804\n",
      "Epoch 3/100\n",
      "1/1 [==============================] - 0s 9ms/step - loss: 11.2324 - mean_absolute_error: 11.2324\n",
      "Epoch 4/100\n",
      "1/1 [==============================] - 0s 14ms/step - loss: 10.6601 - mean_absolute_error: 10.6601\n",
      "Epoch 5/100\n",
      "1/1 [==============================] - 0s 10ms/step - loss: 10.0632 - mean_absolute_error: 10.0632\n",
      "Epoch 6/100\n",
      "1/1 [==============================] - 0s 46ms/step - loss: 9.4503 - mean_absolute_error: 9.4503\n",
      "Epoch 7/100\n",
      "1/1 [==============================] - 0s 9ms/step - loss: 8.7991 - mean_absolute_error: 8.7991\n",
      "Epoch 8/100\n",
      "1/1 [==============================] - 0s 10ms/step - loss: 8.1072 - mean_absolute_error: 8.1072\n",
      "Epoch 9/100\n",
      "1/1 [==============================] - 0s 8ms/step - loss: 7.3691 - mean_absolute_error: 7.3691\n",
      "Epoch 10/100\n",
      "1/1 [==============================] - 0s 9ms/step - loss: 6.5758 - mean_absolute_error: 6.5758\n",
      "Epoch 11/100\n",
      "1/1 [==============================] - 0s 9ms/step - loss: 5.7205 - mean_absolute_error: 5.7205\n",
      "Epoch 12/100\n",
      "1/1 [==============================] - 0s 8ms/step - loss: 4.7947 - mean_absolute_error: 4.7947\n",
      "Epoch 13/100\n",
      "1/1 [==============================] - 0s 9ms/step - loss: 4.3581 - mean_absolute_error: 4.3581\n",
      "Epoch 14/100\n",
      "1/1 [==============================] - 0s 9ms/step - loss: 4.3134 - mean_absolute_error: 4.3134\n",
      "Epoch 15/100\n",
      "1/1 [==============================] - 0s 9ms/step - loss: 4.2550 - mean_absolute_error: 4.2550\n",
      "Epoch 16/100\n",
      "1/1 [==============================] - 0s 10ms/step - loss: 4.2442 - mean_absolute_error: 4.2442\n",
      "Epoch 17/100\n",
      "1/1 [==============================] - 0s 10ms/step - loss: 4.1520 - mean_absolute_error: 4.1520\n",
      "Epoch 18/100\n",
      "1/1 [==============================] - 0s 9ms/step - loss: 4.1739 - mean_absolute_error: 4.1739\n",
      "Epoch 19/100\n",
      "1/1 [==============================] - 0s 10ms/step - loss: 4.0681 - mean_absolute_error: 4.0681\n",
      "Epoch 20/100\n",
      "1/1 [==============================] - 0s 11ms/step - loss: 4.0807 - mean_absolute_error: 4.0807\n",
      "Epoch 21/100\n",
      "1/1 [==============================] - 0s 11ms/step - loss: 3.9954 - mean_absolute_error: 3.9954\n",
      "Epoch 22/100\n",
      "1/1 [==============================] - 0s 11ms/step - loss: 3.9739 - mean_absolute_error: 3.9739\n",
      "Epoch 23/100\n",
      "1/1 [==============================] - 0s 9ms/step - loss: 3.9208 - mean_absolute_error: 3.9208\n",
      "Epoch 24/100\n",
      "1/1 [==============================] - 0s 16ms/step - loss: 3.9047 - mean_absolute_error: 3.9047\n",
      "Epoch 25/100\n",
      "1/1 [==============================] - 0s 11ms/step - loss: 3.9267 - mean_absolute_error: 3.9267\n",
      "Epoch 26/100\n",
      "1/1 [==============================] - 0s 9ms/step - loss: 3.8797 - mean_absolute_error: 3.8797\n",
      "Epoch 27/100\n",
      "1/1 [==============================] - 0s 9ms/step - loss: 3.9341 - mean_absolute_error: 3.9341\n",
      "Epoch 28/100\n",
      "1/1 [==============================] - 0s 9ms/step - loss: 3.8678 - mean_absolute_error: 3.8678\n",
      "Epoch 29/100\n",
      "1/1 [==============================] - 0s 11ms/step - loss: 3.9274 - mean_absolute_error: 3.9274\n",
      "Epoch 30/100\n",
      "1/1 [==============================] - 0s 11ms/step - loss: 3.8751 - mean_absolute_error: 3.8751\n",
      "Epoch 31/100\n",
      "1/1 [==============================] - 0s 10ms/step - loss: 3.9080 - mean_absolute_error: 3.9080\n",
      "Epoch 32/100\n",
      "1/1 [==============================] - 0s 10ms/step - loss: 3.8893 - mean_absolute_error: 3.8893\n",
      "Epoch 33/100\n",
      "1/1 [==============================] - 0s 9ms/step - loss: 3.8834 - mean_absolute_error: 3.8834\n",
      "Epoch 34/100\n",
      "1/1 [==============================] - 0s 14ms/step - loss: 3.8969 - mean_absolute_error: 3.8969\n",
      "Epoch 35/100\n",
      "1/1 [==============================] - 0s 13ms/step - loss: 3.8581 - mean_absolute_error: 3.8581\n",
      "Epoch 36/100\n",
      "1/1 [==============================] - 0s 12ms/step - loss: 3.9046 - mean_absolute_error: 3.9046\n",
      "Epoch 37/100\n",
      "1/1 [==============================] - 0s 16ms/step - loss: 3.8386 - mean_absolute_error: 3.8386\n",
      "Epoch 38/100\n",
      "1/1 [==============================] - 0s 13ms/step - loss: 3.9054 - mean_absolute_error: 3.9054\n",
      "Epoch 39/100\n",
      "1/1 [==============================] - 0s 13ms/step - loss: 3.8482 - mean_absolute_error: 3.8482\n",
      "Epoch 40/100\n",
      "1/1 [==============================] - 0s 12ms/step - loss: 3.8862 - mean_absolute_error: 3.8862\n",
      "Epoch 41/100\n",
      "1/1 [==============================] - 0s 11ms/step - loss: 3.8605 - mean_absolute_error: 3.8605\n",
      "Epoch 42/100\n",
      "1/1 [==============================] - 0s 9ms/step - loss: 3.8608 - mean_absolute_error: 3.8608\n",
      "Epoch 43/100\n",
      "1/1 [==============================] - 0s 11ms/step - loss: 3.8683 - mean_absolute_error: 3.8683\n",
      "Epoch 44/100\n",
      "1/1 [==============================] - 0s 10ms/step - loss: 3.8352 - mean_absolute_error: 3.8352\n",
      "Epoch 45/100\n",
      "1/1 [==============================] - 0s 10ms/step - loss: 3.8762 - mean_absolute_error: 3.8762\n",
      "Epoch 46/100\n",
      "1/1 [==============================] - 0s 11ms/step - loss: 3.8106 - mean_absolute_error: 3.8106\n",
      "Epoch 47/100\n",
      "1/1 [==============================] - 0s 10ms/step - loss: 3.8821 - mean_absolute_error: 3.8821\n",
      "Epoch 48/100\n",
      "1/1 [==============================] - 0s 14ms/step - loss: 3.8234 - mean_absolute_error: 3.8234\n",
      "Epoch 49/100\n",
      "1/1 [==============================] - 0s 14ms/step - loss: 3.8626 - mean_absolute_error: 3.8626\n",
      "Epoch 50/100\n",
      "1/1 [==============================] - 0s 10ms/step - loss: 3.8328 - mean_absolute_error: 3.8328\n",
      "Epoch 51/100\n",
      "1/1 [==============================] - 0s 10ms/step - loss: 3.8369 - mean_absolute_error: 3.8369\n",
      "Epoch 52/100\n",
      "1/1 [==============================] - 0s 11ms/step - loss: 3.8408 - mean_absolute_error: 3.8408\n",
      "Epoch 53/100\n",
      "1/1 [==============================] - 0s 14ms/step - loss: 3.8111 - mean_absolute_error: 3.8111\n",
      "Epoch 54/100\n",
      "1/1 [==============================] - 0s 13ms/step - loss: 3.8489 - mean_absolute_error: 3.8489\n",
      "Epoch 55/100\n",
      "1/1 [==============================] - 0s 10ms/step - loss: 3.7850 - mean_absolute_error: 3.7850\n",
      "Epoch 56/100\n",
      "1/1 [==============================] - 0s 10ms/step - loss: 3.8585 - mean_absolute_error: 3.8585\n",
      "Epoch 57/100\n",
      "1/1 [==============================] - 0s 11ms/step - loss: 3.7982 - mean_absolute_error: 3.7982\n",
      "Epoch 58/100\n",
      "1/1 [==============================] - 0s 13ms/step - loss: 3.8377 - mean_absolute_error: 3.8377\n",
      "Epoch 59/100\n",
      "1/1 [==============================] - 0s 13ms/step - loss: 3.8062 - mean_absolute_error: 3.8062\n",
      "Epoch 60/100\n",
      "1/1 [==============================] - 0s 12ms/step - loss: 3.8117 - mean_absolute_error: 3.8117\n",
      "Epoch 61/100\n",
      "1/1 [==============================] - 0s 14ms/step - loss: 3.8144 - mean_absolute_error: 3.8144\n",
      "Epoch 62/100\n",
      "1/1 [==============================] - 0s 15ms/step - loss: 3.7856 - mean_absolute_error: 3.7856\n",
      "Epoch 63/100\n",
      "1/1 [==============================] - 0s 10ms/step - loss: 3.8227 - mean_absolute_error: 3.8227\n",
      "Epoch 64/100\n",
      "1/1 [==============================] - 0s 10ms/step - loss: 3.7593 - mean_absolute_error: 3.7593\n",
      "Epoch 65/100\n",
      "1/1 [==============================] - 0s 11ms/step - loss: 3.8352 - mean_absolute_error: 3.8352\n",
      "Epoch 66/100\n",
      "1/1 [==============================] - 0s 10ms/step - loss: 3.7725 - mean_absolute_error: 3.7725\n",
      "Epoch 67/100\n",
      "1/1 [==============================] - 0s 9ms/step - loss: 3.8115 - mean_absolute_error: 3.8115\n",
      "Epoch 68/100\n",
      "1/1 [==============================] - 0s 9ms/step - loss: 3.7807 - mean_absolute_error: 3.7807\n",
      "Epoch 69/100\n",
      "1/1 [==============================] - 0s 11ms/step - loss: 3.7853 - mean_absolute_error: 3.7853\n",
      "Epoch 70/100\n",
      "1/1 [==============================] - 0s 11ms/step - loss: 3.7891 - mean_absolute_error: 3.7891\n",
      "Epoch 71/100\n",
      "1/1 [==============================] - 0s 10ms/step - loss: 3.7588 - mean_absolute_error: 3.7588\n",
      "Epoch 72/100\n",
      "1/1 [==============================] - 0s 14ms/step - loss: 3.7975 - mean_absolute_error: 3.7975\n",
      "Epoch 73/100\n",
      "1/1 [==============================] - 0s 18ms/step - loss: 3.7337 - mean_absolute_error: 3.7337\n",
      "Epoch 74/100\n",
      "1/1 [==============================] - 0s 11ms/step - loss: 3.8105 - mean_absolute_error: 3.8105\n",
      "Epoch 75/100\n",
      "1/1 [==============================] - 0s 12ms/step - loss: 3.7478 - mean_absolute_error: 3.7478\n",
      "Epoch 76/100\n",
      "1/1 [==============================] - 0s 10ms/step - loss: 3.7840 - mean_absolute_error: 3.7840\n",
      "Epoch 77/100\n",
      "1/1 [==============================] - 0s 11ms/step - loss: 3.7563 - mean_absolute_error: 3.7563\n",
      "Epoch 78/100\n",
      "1/1 [==============================] - 0s 11ms/step - loss: 3.7575 - mean_absolute_error: 3.7575\n",
      "Epoch 79/100\n",
      "1/1 [==============================] - 0s 10ms/step - loss: 3.7648 - mean_absolute_error: 3.7648\n",
      "Epoch 80/100\n",
      "1/1 [==============================] - 0s 9ms/step - loss: 3.7307 - mean_absolute_error: 3.7307\n",
      "Epoch 81/100\n",
      "1/1 [==============================] - 0s 8ms/step - loss: 3.7735 - mean_absolute_error: 3.7735\n",
      "Epoch 82/100\n",
      "1/1 [==============================] - 0s 8ms/step - loss: 3.7125 - mean_absolute_error: 3.7125\n",
      "Epoch 83/100\n",
      "1/1 [==============================] - 0s 9ms/step - loss: 3.7820 - mean_absolute_error: 3.7820\n",
      "Epoch 84/100\n",
      "1/1 [==============================] - 0s 10ms/step - loss: 3.7242 - mean_absolute_error: 3.7242\n",
      "Epoch 85/100\n",
      "1/1 [==============================] - 0s 13ms/step - loss: 3.7552 - mean_absolute_error: 3.7552\n",
      "Epoch 86/100\n",
      "1/1 [==============================] - 0s 11ms/step - loss: 3.7329 - mean_absolute_error: 3.7329\n",
      "Epoch 87/100\n",
      "1/1 [==============================] - 0s 11ms/step - loss: 3.7284 - mean_absolute_error: 3.7284\n",
      "Epoch 88/100\n",
      "1/1 [==============================] - 0s 16ms/step - loss: 3.7416 - mean_absolute_error: 3.7416\n",
      "Epoch 89/100\n",
      "1/1 [==============================] - 0s 12ms/step - loss: 3.7013 - mean_absolute_error: 3.7013\n",
      "Epoch 90/100\n",
      "1/1 [==============================] - 0s 12ms/step - loss: 3.7505 - mean_absolute_error: 3.7505\n",
      "Epoch 91/100\n",
      "1/1 [==============================] - 0s 12ms/step - loss: 3.6921 - mean_absolute_error: 3.6921\n",
      "Epoch 92/100\n",
      "1/1 [==============================] - 0s 11ms/step - loss: 3.7522 - mean_absolute_error: 3.7522\n",
      "Epoch 93/100\n",
      "1/1 [==============================] - 0s 14ms/step - loss: 3.7016 - mean_absolute_error: 3.7016\n",
      "Epoch 94/100\n",
      "1/1 [==============================] - 0s 10ms/step - loss: 3.7251 - mean_absolute_error: 3.7251\n",
      "Epoch 95/100\n",
      "1/1 [==============================] - 0s 11ms/step - loss: 3.7105 - mean_absolute_error: 3.7105\n",
      "Epoch 96/100\n",
      "1/1 [==============================] - 0s 15ms/step - loss: 3.6979 - mean_absolute_error: 3.6979\n",
      "Epoch 97/100\n",
      "1/1 [==============================] - 0s 14ms/step - loss: 3.7194 - mean_absolute_error: 3.7194\n",
      "Epoch 98/100\n",
      "1/1 [==============================] - 0s 9ms/step - loss: 3.6705 - mean_absolute_error: 3.6705\n",
      "Epoch 99/100\n",
      "1/1 [==============================] - 0s 10ms/step - loss: 3.7299 - mean_absolute_error: 3.7299\n",
      "Epoch 100/100\n",
      "1/1 [==============================] - 0s 12ms/step - loss: 3.6711 - mean_absolute_error: 3.6711\n"
     ]
    }
   ],
   "source": [
    "\n",
    "model2 = tf.keras.Sequential([\n",
    "    tf.keras.layers.Dense(100, activation=tf.keras.activations.relu),\n",
    "    tf.keras.layers.Dense(1)\n",
    "])\n",
    "\n",
    "model2.compile(loss=tf.keras.losses.mae,\n",
    "               optimizer=tf.keras.optimizers.SGD(),\n",
    "               metrics=tf.keras.metrics.mae\n",
    "               )\n",
    "with tf.device(\"/gpu:0\"):\n",
    "    model2.fit(tf.expand_dims(X, -1), Y, epochs=100)\n"
   ]
  },
  {
   "cell_type": "code",
   "execution_count": 36,
   "metadata": {},
   "outputs": [
    {
     "data": {
      "text/plain": [
       "array([[31.223137]], dtype=float32)"
      ]
     },
     "execution_count": 36,
     "metadata": {},
     "output_type": "execute_result"
    }
   ],
   "source": [
    "model2.predict([17.0])"
   ]
  },
  {
   "cell_type": "code",
   "execution_count": 39,
   "metadata": {},
   "outputs": [
    {
     "name": "stdout",
     "output_type": "stream",
     "text": [
      "Epoch 1/100\n",
      "1/1 [==============================] - 1s 509ms/step - loss: 12.5419 - mean_absolute_error: 12.5419\n",
      "Epoch 2/100\n",
      "1/1 [==============================] - 0s 14ms/step - loss: 12.0344 - mean_absolute_error: 12.0344\n",
      "Epoch 3/100\n",
      "1/1 [==============================] - 0s 12ms/step - loss: 11.5205 - mean_absolute_error: 11.5205\n",
      "Epoch 4/100\n",
      "1/1 [==============================] - 0s 10ms/step - loss: 10.9976 - mean_absolute_error: 10.9976\n",
      "Epoch 5/100\n",
      "1/1 [==============================] - 0s 9ms/step - loss: 10.4629 - mean_absolute_error: 10.4629\n",
      "Epoch 6/100\n",
      "1/1 [==============================] - 0s 9ms/step - loss: 9.9137 - mean_absolute_error: 9.9137\n",
      "Epoch 7/100\n",
      "1/1 [==============================] - 0s 9ms/step - loss: 9.3473 - mean_absolute_error: 9.3473\n",
      "Epoch 8/100\n",
      "1/1 [==============================] - 0s 8ms/step - loss: 8.7606 - mean_absolute_error: 8.7606\n",
      "Epoch 9/100\n",
      "1/1 [==============================] - 0s 8ms/step - loss: 8.1507 - mean_absolute_error: 8.1507\n",
      "Epoch 10/100\n",
      "1/1 [==============================] - 0s 8ms/step - loss: 7.5144 - mean_absolute_error: 7.5144\n",
      "Epoch 11/100\n",
      "1/1 [==============================] - 0s 7ms/step - loss: 7.2651 - mean_absolute_error: 7.2651\n",
      "Epoch 12/100\n",
      "1/1 [==============================] - 0s 9ms/step - loss: 7.2457 - mean_absolute_error: 7.2457\n",
      "Epoch 13/100\n",
      "1/1 [==============================] - 0s 12ms/step - loss: 7.2263 - mean_absolute_error: 7.2263\n",
      "Epoch 14/100\n",
      "1/1 [==============================] - 0s 10ms/step - loss: 7.2068 - mean_absolute_error: 7.2068\n",
      "Epoch 15/100\n",
      "1/1 [==============================] - 0s 12ms/step - loss: 7.1873 - mean_absolute_error: 7.1873\n",
      "Epoch 16/100\n",
      "1/1 [==============================] - 0s 10ms/step - loss: 7.1677 - mean_absolute_error: 7.1677\n",
      "Epoch 17/100\n",
      "1/1 [==============================] - 0s 9ms/step - loss: 7.1481 - mean_absolute_error: 7.1481\n",
      "Epoch 18/100\n",
      "1/1 [==============================] - 0s 9ms/step - loss: 7.1285 - mean_absolute_error: 7.1285\n",
      "Epoch 19/100\n",
      "1/1 [==============================] - 0s 8ms/step - loss: 7.1087 - mean_absolute_error: 7.1087\n",
      "Epoch 20/100\n",
      "1/1 [==============================] - 0s 9ms/step - loss: 7.0890 - mean_absolute_error: 7.0890\n",
      "Epoch 21/100\n",
      "1/1 [==============================] - 0s 10ms/step - loss: 7.0691 - mean_absolute_error: 7.0691\n",
      "Epoch 22/100\n",
      "1/1 [==============================] - 0s 12ms/step - loss: 7.0492 - mean_absolute_error: 7.0492\n",
      "Epoch 23/100\n",
      "1/1 [==============================] - 0s 12ms/step - loss: 7.0292 - mean_absolute_error: 7.0292\n",
      "Epoch 24/100\n",
      "1/1 [==============================] - 0s 13ms/step - loss: 7.0092 - mean_absolute_error: 7.0092\n",
      "Epoch 25/100\n",
      "1/1 [==============================] - 0s 10ms/step - loss: 6.9890 - mean_absolute_error: 6.9890\n",
      "Epoch 26/100\n",
      "1/1 [==============================] - 0s 8ms/step - loss: 6.9688 - mean_absolute_error: 6.9688\n",
      "Epoch 27/100\n",
      "1/1 [==============================] - 0s 8ms/step - loss: 6.9486 - mean_absolute_error: 6.9486\n",
      "Epoch 28/100\n",
      "1/1 [==============================] - 0s 10ms/step - loss: 6.9326 - mean_absolute_error: 6.9326\n",
      "Epoch 29/100\n",
      "1/1 [==============================] - 0s 9ms/step - loss: 6.9222 - mean_absolute_error: 6.9222\n",
      "Epoch 30/100\n",
      "1/1 [==============================] - 0s 9ms/step - loss: 6.9022 - mean_absolute_error: 6.9022\n",
      "Epoch 31/100\n",
      "1/1 [==============================] - 0s 10ms/step - loss: 6.8822 - mean_absolute_error: 6.8822\n",
      "Epoch 32/100\n",
      "1/1 [==============================] - 0s 12ms/step - loss: 6.8620 - mean_absolute_error: 6.8620\n",
      "Epoch 33/100\n",
      "1/1 [==============================] - 0s 15ms/step - loss: 6.8418 - mean_absolute_error: 6.8418\n",
      "Epoch 34/100\n",
      "1/1 [==============================] - 0s 10ms/step - loss: 6.8214 - mean_absolute_error: 6.8214\n",
      "Epoch 35/100\n",
      "1/1 [==============================] - 0s 14ms/step - loss: 6.8010 - mean_absolute_error: 6.8010\n",
      "Epoch 36/100\n",
      "1/1 [==============================] - 0s 11ms/step - loss: 6.7804 - mean_absolute_error: 6.7804\n",
      "Epoch 37/100\n",
      "1/1 [==============================] - 0s 10ms/step - loss: 6.7597 - mean_absolute_error: 6.7597\n",
      "Epoch 38/100\n",
      "1/1 [==============================] - 0s 12ms/step - loss: 6.7389 - mean_absolute_error: 6.7389\n",
      "Epoch 39/100\n",
      "1/1 [==============================] - 0s 11ms/step - loss: 6.7180 - mean_absolute_error: 6.7180\n",
      "Epoch 40/100\n",
      "1/1 [==============================] - 0s 11ms/step - loss: 6.6970 - mean_absolute_error: 6.6970\n",
      "Epoch 41/100\n",
      "1/1 [==============================] - 0s 14ms/step - loss: 6.6758 - mean_absolute_error: 6.6758\n",
      "Epoch 42/100\n",
      "1/1 [==============================] - 0s 12ms/step - loss: 6.6545 - mean_absolute_error: 6.6545\n",
      "Epoch 43/100\n",
      "1/1 [==============================] - 0s 10ms/step - loss: 6.6331 - mean_absolute_error: 6.6331\n",
      "Epoch 44/100\n",
      "1/1 [==============================] - 0s 10ms/step - loss: 6.6116 - mean_absolute_error: 6.6116\n",
      "Epoch 45/100\n",
      "1/1 [==============================] - 0s 9ms/step - loss: 6.5899 - mean_absolute_error: 6.5899\n",
      "Epoch 46/100\n",
      "1/1 [==============================] - 0s 8ms/step - loss: 6.5680 - mean_absolute_error: 6.5680\n",
      "Epoch 47/100\n",
      "1/1 [==============================] - 0s 8ms/step - loss: 6.5460 - mean_absolute_error: 6.5460\n",
      "Epoch 48/100\n",
      "1/1 [==============================] - 0s 10ms/step - loss: 6.5239 - mean_absolute_error: 6.5239\n",
      "Epoch 49/100\n",
      "1/1 [==============================] - 0s 9ms/step - loss: 6.5016 - mean_absolute_error: 6.5016\n",
      "Epoch 50/100\n",
      "1/1 [==============================] - 0s 9ms/step - loss: 6.4791 - mean_absolute_error: 6.4791\n",
      "Epoch 51/100\n",
      "1/1 [==============================] - 0s 9ms/step - loss: 6.4565 - mean_absolute_error: 6.4565\n",
      "Epoch 52/100\n",
      "1/1 [==============================] - 0s 13ms/step - loss: 6.4418 - mean_absolute_error: 6.4418\n",
      "Epoch 53/100\n",
      "1/1 [==============================] - 0s 9ms/step - loss: 6.4321 - mean_absolute_error: 6.4321\n",
      "Epoch 54/100\n",
      "1/1 [==============================] - 0s 12ms/step - loss: 6.4096 - mean_absolute_error: 6.4096\n",
      "Epoch 55/100\n",
      "1/1 [==============================] - 0s 13ms/step - loss: 6.3869 - mean_absolute_error: 6.3869\n",
      "Epoch 56/100\n",
      "1/1 [==============================] - 0s 10ms/step - loss: 6.3640 - mean_absolute_error: 6.3640\n",
      "Epoch 57/100\n",
      "1/1 [==============================] - 0s 11ms/step - loss: 6.3410 - mean_absolute_error: 6.3410\n",
      "Epoch 58/100\n",
      "1/1 [==============================] - 0s 10ms/step - loss: 6.3178 - mean_absolute_error: 6.3178\n",
      "Epoch 59/100\n",
      "1/1 [==============================] - 0s 10ms/step - loss: 6.2943 - mean_absolute_error: 6.2943\n",
      "Epoch 60/100\n",
      "1/1 [==============================] - 0s 10ms/step - loss: 6.2707 - mean_absolute_error: 6.2707\n",
      "Epoch 61/100\n",
      "1/1 [==============================] - 0s 11ms/step - loss: 6.2469 - mean_absolute_error: 6.2469\n",
      "Epoch 62/100\n",
      "1/1 [==============================] - 0s 11ms/step - loss: 6.2229 - mean_absolute_error: 6.2229\n",
      "Epoch 63/100\n",
      "1/1 [==============================] - 0s 14ms/step - loss: 6.1986 - mean_absolute_error: 6.1986\n",
      "Epoch 64/100\n",
      "1/1 [==============================] - 0s 11ms/step - loss: 6.1742 - mean_absolute_error: 6.1742\n",
      "Epoch 65/100\n",
      "1/1 [==============================] - 0s 12ms/step - loss: 6.1496 - mean_absolute_error: 6.1496\n",
      "Epoch 66/100\n",
      "1/1 [==============================] - 0s 16ms/step - loss: 6.1247 - mean_absolute_error: 6.1247\n",
      "Epoch 67/100\n",
      "1/1 [==============================] - 0s 10ms/step - loss: 6.0996 - mean_absolute_error: 6.0996\n",
      "Epoch 68/100\n",
      "1/1 [==============================] - 0s 10ms/step - loss: 6.0743 - mean_absolute_error: 6.0743\n",
      "Epoch 69/100\n",
      "1/1 [==============================] - 0s 9ms/step - loss: 6.0488 - mean_absolute_error: 6.0488\n",
      "Epoch 70/100\n",
      "1/1 [==============================] - 0s 12ms/step - loss: 6.0269 - mean_absolute_error: 6.0269\n",
      "Epoch 71/100\n",
      "1/1 [==============================] - 0s 10ms/step - loss: 6.0234 - mean_absolute_error: 6.0234\n",
      "Epoch 72/100\n",
      "1/1 [==============================] - 0s 8ms/step - loss: 5.9977 - mean_absolute_error: 5.9977\n",
      "Epoch 73/100\n",
      "1/1 [==============================] - 0s 9ms/step - loss: 5.9718 - mean_absolute_error: 5.9718\n",
      "Epoch 74/100\n",
      "1/1 [==============================] - 0s 9ms/step - loss: 5.9457 - mean_absolute_error: 5.9457\n",
      "Epoch 75/100\n",
      "1/1 [==============================] - 0s 9ms/step - loss: 5.9193 - mean_absolute_error: 5.9193\n",
      "Epoch 76/100\n",
      "1/1 [==============================] - 0s 11ms/step - loss: 5.8927 - mean_absolute_error: 5.8927\n",
      "Epoch 77/100\n",
      "1/1 [==============================] - 0s 12ms/step - loss: 5.8657 - mean_absolute_error: 5.8657\n",
      "Epoch 78/100\n",
      "1/1 [==============================] - 0s 10ms/step - loss: 5.8386 - mean_absolute_error: 5.8386\n",
      "Epoch 79/100\n",
      "1/1 [==============================] - 0s 13ms/step - loss: 5.8111 - mean_absolute_error: 5.8111\n",
      "Epoch 80/100\n",
      "1/1 [==============================] - 0s 14ms/step - loss: 5.7834 - mean_absolute_error: 5.7834\n",
      "Epoch 81/100\n",
      "1/1 [==============================] - 0s 11ms/step - loss: 5.7554 - mean_absolute_error: 5.7554\n",
      "Epoch 82/100\n",
      "1/1 [==============================] - 0s 10ms/step - loss: 5.7271 - mean_absolute_error: 5.7271\n",
      "Epoch 83/100\n",
      "1/1 [==============================] - 0s 10ms/step - loss: 5.6985 - mean_absolute_error: 5.6985\n",
      "Epoch 84/100\n",
      "1/1 [==============================] - 0s 11ms/step - loss: 5.6696 - mean_absolute_error: 5.6696\n",
      "Epoch 85/100\n",
      "1/1 [==============================] - 0s 11ms/step - loss: 5.6405 - mean_absolute_error: 5.6405\n",
      "Epoch 86/100\n",
      "1/1 [==============================] - 0s 9ms/step - loss: 5.6257 - mean_absolute_error: 5.6257\n",
      "Epoch 87/100\n",
      "1/1 [==============================] - 0s 11ms/step - loss: 5.6167 - mean_absolute_error: 5.6167\n",
      "Epoch 88/100\n",
      "1/1 [==============================] - 0s 11ms/step - loss: 5.7361 - mean_absolute_error: 5.7361\n",
      "Epoch 89/100\n",
      "1/1 [==============================] - 0s 15ms/step - loss: 5.5483 - mean_absolute_error: 5.5483\n",
      "Epoch 90/100\n",
      "1/1 [==============================] - 0s 12ms/step - loss: 5.5181 - mean_absolute_error: 5.5181\n",
      "Epoch 91/100\n",
      "1/1 [==============================] - 0s 10ms/step - loss: 5.4876 - mean_absolute_error: 5.4876\n",
      "Epoch 92/100\n",
      "1/1 [==============================] - 0s 12ms/step - loss: 5.4567 - mean_absolute_error: 5.4567\n",
      "Epoch 93/100\n",
      "1/1 [==============================] - 0s 17ms/step - loss: 5.4254 - mean_absolute_error: 5.4254\n",
      "Epoch 94/100\n",
      "1/1 [==============================] - 0s 10ms/step - loss: 5.3939 - mean_absolute_error: 5.3939\n",
      "Epoch 95/100\n",
      "1/1 [==============================] - 0s 10ms/step - loss: 5.3619 - mean_absolute_error: 5.3619\n",
      "Epoch 96/100\n",
      "1/1 [==============================] - 0s 12ms/step - loss: 5.3296 - mean_absolute_error: 5.3296\n",
      "Epoch 97/100\n",
      "1/1 [==============================] - 0s 14ms/step - loss: 5.3150 - mean_absolute_error: 5.3150\n",
      "Epoch 98/100\n",
      "1/1 [==============================] - 0s 12ms/step - loss: 5.3422 - mean_absolute_error: 5.3422\n",
      "Epoch 99/100\n",
      "1/1 [==============================] - 0s 9ms/step - loss: 5.4287 - mean_absolute_error: 5.4287\n",
      "Epoch 100/100\n",
      "1/1 [==============================] - 0s 12ms/step - loss: 5.2273 - mean_absolute_error: 5.2273\n"
     ]
    }
   ],
   "source": [
    "\n",
    "model3 = tf.keras.Sequential([\n",
    "    tf.keras.layers.Dense(50, activation=None),\n",
    "    tf.keras.layers.Dense(1)\n",
    "])\n",
    "\n",
    "model3.compile(loss=tf.keras.losses.mae,\n",
    "               optimizer=tf.keras.optimizers.SGD(),\n",
    "               metrics=tf.keras.metrics.mae\n",
    "               )\n",
    "with tf.device(\"/gpu:0\"):\n",
    "    model3.fit(tf.expand_dims(X, -1), Y, epochs=100)\n"
   ]
  },
  {
   "cell_type": "code",
   "execution_count": 40,
   "metadata": {},
   "outputs": [
    {
     "name": "stdout",
     "output_type": "stream",
     "text": [
      "WARNING:tensorflow:5 out of the last 7 calls to <function Model.make_predict_function.<locals>.predict_function at 0x0000023A55756D40> triggered tf.function retracing. Tracing is expensive and the excessive number of tracings could be due to (1) creating @tf.function repeatedly in a loop, (2) passing tensors with different shapes, (3) passing Python objects instead of tensors. For (1), please define your @tf.function outside of the loop. For (2), @tf.function has experimental_relax_shapes=True option that relaxes argument shapes that can avoid unnecessary retracing. For (3), please refer to https://www.tensorflow.org/guide/function#controlling_retracing and https://www.tensorflow.org/api_docs/python/tf/function for  more details.\n"
     ]
    },
    {
     "data": {
      "text/plain": [
       "array([[29.52236]], dtype=float32)"
      ]
     },
     "execution_count": 40,
     "metadata": {},
     "output_type": "execute_result"
    }
   ],
   "source": [
    "model3.predict([17.0])"
   ]
  },
  {
   "cell_type": "code",
   "execution_count": 59,
   "metadata": {},
   "outputs": [
    {
     "name": "stdout",
     "output_type": "stream",
     "text": [
      "Epoch 1/100\n",
      "1/1 [==============================] - 1s 593ms/step - loss: 12.3612 - mean_absolute_error: 12.3612\n",
      "Epoch 2/100\n",
      "1/1 [==============================] - 0s 10ms/step - loss: 11.6929 - mean_absolute_error: 11.6929\n",
      "Epoch 3/100\n",
      "1/1 [==============================] - 0s 13ms/step - loss: 11.0183 - mean_absolute_error: 11.0183\n",
      "Epoch 4/100\n",
      "1/1 [==============================] - 0s 12ms/step - loss: 10.3345 - mean_absolute_error: 10.3345\n",
      "Epoch 5/100\n",
      "1/1 [==============================] - 0s 11ms/step - loss: 9.6374 - mean_absolute_error: 9.6374\n",
      "Epoch 6/100\n",
      "1/1 [==============================] - 0s 11ms/step - loss: 8.9227 - mean_absolute_error: 8.9227\n",
      "Epoch 7/100\n",
      "1/1 [==============================] - 0s 9ms/step - loss: 8.1862 - mean_absolute_error: 8.1862\n",
      "Epoch 8/100\n",
      "1/1 [==============================] - 0s 9ms/step - loss: 7.4241 - mean_absolute_error: 7.4241\n",
      "Epoch 9/100\n",
      "1/1 [==============================] - 0s 12ms/step - loss: 6.8746 - mean_absolute_error: 6.8746\n",
      "Epoch 10/100\n",
      "1/1 [==============================] - 0s 10ms/step - loss: 6.9925 - mean_absolute_error: 6.9925\n",
      "Epoch 11/100\n",
      "1/1 [==============================] - 0s 10ms/step - loss: 7.2675 - mean_absolute_error: 7.2675\n",
      "Epoch 12/100\n",
      "1/1 [==============================] - 0s 9ms/step - loss: 7.4196 - mean_absolute_error: 7.4196\n",
      "Epoch 13/100\n",
      "1/1 [==============================] - 0s 9ms/step - loss: 7.5630 - mean_absolute_error: 7.5630\n",
      "Epoch 14/100\n",
      "1/1 [==============================] - 0s 9ms/step - loss: 7.4721 - mean_absolute_error: 7.4721\n",
      "Epoch 15/100\n",
      "1/1 [==============================] - 0s 11ms/step - loss: 7.2086 - mean_absolute_error: 7.2086\n",
      "Epoch 16/100\n",
      "1/1 [==============================] - 0s 9ms/step - loss: 6.9549 - mean_absolute_error: 6.9549\n",
      "Epoch 17/100\n",
      "1/1 [==============================] - 0s 11ms/step - loss: 6.6838 - mean_absolute_error: 6.6838\n",
      "Epoch 18/100\n",
      "1/1 [==============================] - 0s 7ms/step - loss: 6.3956 - mean_absolute_error: 6.3956\n",
      "Epoch 19/100\n",
      "1/1 [==============================] - 0s 10ms/step - loss: 6.2181 - mean_absolute_error: 6.2181\n",
      "Epoch 20/100\n",
      "1/1 [==============================] - 0s 11ms/step - loss: 6.1736 - mean_absolute_error: 6.1736\n",
      "Epoch 21/100\n",
      "1/1 [==============================] - 0s 11ms/step - loss: 6.2568 - mean_absolute_error: 6.2568\n",
      "Epoch 22/100\n",
      "1/1 [==============================] - 0s 11ms/step - loss: 6.3253 - mean_absolute_error: 6.3253\n",
      "Epoch 23/100\n",
      "1/1 [==============================] - 0s 12ms/step - loss: 6.2822 - mean_absolute_error: 6.2822\n",
      "Epoch 24/100\n",
      "1/1 [==============================] - 0s 10ms/step - loss: 6.1429 - mean_absolute_error: 6.1429\n",
      "Epoch 25/100\n",
      "1/1 [==============================] - 0s 10ms/step - loss: 5.9180 - mean_absolute_error: 5.9180\n",
      "Epoch 26/100\n",
      "1/1 [==============================] - 0s 10ms/step - loss: 5.7096 - mean_absolute_error: 5.7096\n",
      "Epoch 27/100\n",
      "1/1 [==============================] - 0s 11ms/step - loss: 5.6031 - mean_absolute_error: 5.6031\n",
      "Epoch 28/100\n",
      "1/1 [==============================] - 0s 9ms/step - loss: 5.4935 - mean_absolute_error: 5.4935\n",
      "Epoch 29/100\n",
      "1/1 [==============================] - 0s 11ms/step - loss: 5.5093 - mean_absolute_error: 5.5093\n",
      "Epoch 30/100\n",
      "1/1 [==============================] - 0s 10ms/step - loss: 5.4952 - mean_absolute_error: 5.4952\n",
      "Epoch 31/100\n",
      "1/1 [==============================] - 0s 11ms/step - loss: 5.4337 - mean_absolute_error: 5.4337\n",
      "Epoch 32/100\n",
      "1/1 [==============================] - 0s 11ms/step - loss: 5.3287 - mean_absolute_error: 5.3287\n",
      "Epoch 33/100\n",
      "1/1 [==============================] - 0s 12ms/step - loss: 5.1841 - mean_absolute_error: 5.1841\n",
      "Epoch 34/100\n",
      "1/1 [==============================] - 0s 11ms/step - loss: 5.0034 - mean_absolute_error: 5.0034\n",
      "Epoch 35/100\n",
      "1/1 [==============================] - 0s 13ms/step - loss: 4.7964 - mean_absolute_error: 4.7964\n",
      "Epoch 36/100\n",
      "1/1 [==============================] - 0s 9ms/step - loss: 4.7002 - mean_absolute_error: 4.7002\n",
      "Epoch 37/100\n",
      "1/1 [==============================] - 0s 10ms/step - loss: 4.5961 - mean_absolute_error: 4.5961\n",
      "Epoch 38/100\n",
      "1/1 [==============================] - 0s 9ms/step - loss: 4.4839 - mean_absolute_error: 4.4839\n",
      "Epoch 39/100\n",
      "1/1 [==============================] - 0s 8ms/step - loss: 4.3752 - mean_absolute_error: 4.3752\n",
      "Epoch 40/100\n",
      "1/1 [==============================] - 0s 9ms/step - loss: 4.2245 - mean_absolute_error: 4.2245\n",
      "Epoch 41/100\n",
      "1/1 [==============================] - 0s 10ms/step - loss: 4.0777 - mean_absolute_error: 4.0777\n",
      "Epoch 42/100\n",
      "1/1 [==============================] - 0s 10ms/step - loss: 3.9231 - mean_absolute_error: 3.9231\n",
      "Epoch 43/100\n",
      "1/1 [==============================] - 0s 11ms/step - loss: 3.7603 - mean_absolute_error: 3.7603\n",
      "Epoch 44/100\n",
      "1/1 [==============================] - 0s 11ms/step - loss: 3.5892 - mean_absolute_error: 3.5892\n",
      "Epoch 45/100\n",
      "1/1 [==============================] - 0s 12ms/step - loss: 3.4095 - mean_absolute_error: 3.4095\n",
      "Epoch 46/100\n",
      "1/1 [==============================] - 0s 11ms/step - loss: 3.2986 - mean_absolute_error: 3.2986\n",
      "Epoch 47/100\n",
      "1/1 [==============================] - 0s 12ms/step - loss: 3.1236 - mean_absolute_error: 3.1236\n",
      "Epoch 48/100\n",
      "1/1 [==============================] - 0s 18ms/step - loss: 2.8882 - mean_absolute_error: 2.8882\n",
      "Epoch 49/100\n",
      "1/1 [==============================] - 0s 14ms/step - loss: 2.6735 - mean_absolute_error: 2.6735\n",
      "Epoch 50/100\n",
      "1/1 [==============================] - 0s 13ms/step - loss: 2.4809 - mean_absolute_error: 2.4809\n",
      "Epoch 51/100\n",
      "1/1 [==============================] - 0s 13ms/step - loss: 2.3817 - mean_absolute_error: 2.3817\n",
      "Epoch 52/100\n",
      "1/1 [==============================] - 0s 11ms/step - loss: 2.1073 - mean_absolute_error: 2.1073\n",
      "Epoch 53/100\n",
      "1/1 [==============================] - 0s 13ms/step - loss: 1.7917 - mean_absolute_error: 1.7917\n",
      "Epoch 54/100\n",
      "1/1 [==============================] - 0s 14ms/step - loss: 1.6648 - mean_absolute_error: 1.6648\n",
      "Epoch 55/100\n",
      "1/1 [==============================] - 0s 11ms/step - loss: 1.5265 - mean_absolute_error: 1.5265\n",
      "Epoch 56/100\n",
      "1/1 [==============================] - 0s 12ms/step - loss: 1.1961 - mean_absolute_error: 1.1961\n",
      "Epoch 57/100\n",
      "1/1 [==============================] - 0s 16ms/step - loss: 0.7924 - mean_absolute_error: 0.7924\n",
      "Epoch 58/100\n",
      "1/1 [==============================] - 0s 18ms/step - loss: 0.7402 - mean_absolute_error: 0.7402\n",
      "Epoch 59/100\n",
      "1/1 [==============================] - 0s 15ms/step - loss: 0.5128 - mean_absolute_error: 0.5128\n",
      "Epoch 60/100\n",
      "1/1 [==============================] - 0s 25ms/step - loss: 0.2484 - mean_absolute_error: 0.2484\n",
      "Epoch 61/100\n",
      "1/1 [==============================] - 0s 20ms/step - loss: 0.5533 - mean_absolute_error: 0.5533\n",
      "Epoch 62/100\n",
      "1/1 [==============================] - 0s 12ms/step - loss: 0.9210 - mean_absolute_error: 0.9210\n",
      "Epoch 63/100\n",
      "1/1 [==============================] - 0s 11ms/step - loss: 1.0336 - mean_absolute_error: 1.0336\n",
      "Epoch 64/100\n",
      "1/1 [==============================] - 0s 14ms/step - loss: 0.9204 - mean_absolute_error: 0.9204\n",
      "Epoch 65/100\n",
      "1/1 [==============================] - 0s 9ms/step - loss: 0.7189 - mean_absolute_error: 0.7189\n",
      "Epoch 66/100\n",
      "1/1 [==============================] - 0s 12ms/step - loss: 0.8777 - mean_absolute_error: 0.8777\n",
      "Epoch 67/100\n",
      "1/1 [==============================] - 0s 10ms/step - loss: 0.8320 - mean_absolute_error: 0.8320\n",
      "Epoch 68/100\n",
      "1/1 [==============================] - 0s 10ms/step - loss: 0.6019 - mean_absolute_error: 0.6019\n",
      "Epoch 69/100\n",
      "1/1 [==============================] - 0s 8ms/step - loss: 0.6367 - mean_absolute_error: 0.6367\n",
      "Epoch 70/100\n",
      "1/1 [==============================] - 0s 11ms/step - loss: 0.5842 - mean_absolute_error: 0.5842\n",
      "Epoch 71/100\n",
      "1/1 [==============================] - 0s 10ms/step - loss: 0.3505 - mean_absolute_error: 0.3505\n",
      "Epoch 72/100\n",
      "1/1 [==============================] - 0s 9ms/step - loss: 0.1726 - mean_absolute_error: 0.1726\n",
      "Epoch 73/100\n",
      "1/1 [==============================] - 0s 10ms/step - loss: 0.1927 - mean_absolute_error: 0.1927\n",
      "Epoch 74/100\n",
      "1/1 [==============================] - 0s 9ms/step - loss: 0.2227 - mean_absolute_error: 0.2227\n",
      "Epoch 75/100\n",
      "1/1 [==============================] - 0s 10ms/step - loss: 0.3230 - mean_absolute_error: 0.3230\n",
      "Epoch 76/100\n",
      "1/1 [==============================] - 0s 8ms/step - loss: 0.3272 - mean_absolute_error: 0.3272\n",
      "Epoch 77/100\n",
      "1/1 [==============================] - 0s 9ms/step - loss: 0.3155 - mean_absolute_error: 0.3155\n",
      "Epoch 78/100\n",
      "1/1 [==============================] - 0s 7ms/step - loss: 0.3171 - mean_absolute_error: 0.3171\n",
      "Epoch 79/100\n",
      "1/1 [==============================] - 0s 11ms/step - loss: 0.2586 - mean_absolute_error: 0.2586\n",
      "Epoch 80/100\n",
      "1/1 [==============================] - 0s 8ms/step - loss: 0.1715 - mean_absolute_error: 0.1715\n",
      "Epoch 81/100\n",
      "1/1 [==============================] - 0s 8ms/step - loss: 0.0773 - mean_absolute_error: 0.0773\n",
      "Epoch 82/100\n",
      "1/1 [==============================] - 0s 9ms/step - loss: 0.1567 - mean_absolute_error: 0.1567\n",
      "Epoch 83/100\n",
      "1/1 [==============================] - 0s 14ms/step - loss: 0.1409 - mean_absolute_error: 0.1409\n",
      "Epoch 84/100\n",
      "1/1 [==============================] - 0s 11ms/step - loss: 0.4179 - mean_absolute_error: 0.4179\n",
      "Epoch 85/100\n",
      "1/1 [==============================] - 0s 12ms/step - loss: 0.4397 - mean_absolute_error: 0.4397\n",
      "Epoch 86/100\n",
      "1/1 [==============================] - 0s 22ms/step - loss: 0.2264 - mean_absolute_error: 0.2264\n",
      "Epoch 87/100\n",
      "1/1 [==============================] - 0s 10ms/step - loss: 0.3927 - mean_absolute_error: 0.3927\n",
      "Epoch 88/100\n",
      "1/1 [==============================] - 0s 9ms/step - loss: 0.4545 - mean_absolute_error: 0.4545\n",
      "Epoch 89/100\n",
      "1/1 [==============================] - 0s 10ms/step - loss: 0.2793 - mean_absolute_error: 0.2793\n",
      "Epoch 90/100\n",
      "1/1 [==============================] - 0s 12ms/step - loss: 0.1845 - mean_absolute_error: 0.1845\n",
      "Epoch 91/100\n",
      "1/1 [==============================] - 0s 11ms/step - loss: 0.2800 - mean_absolute_error: 0.2800\n",
      "Epoch 92/100\n",
      "1/1 [==============================] - 0s 16ms/step - loss: 0.1514 - mean_absolute_error: 0.1514\n",
      "Epoch 93/100\n",
      "1/1 [==============================] - 0s 12ms/step - loss: 0.3437 - mean_absolute_error: 0.3437\n",
      "Epoch 94/100\n",
      "1/1 [==============================] - 0s 15ms/step - loss: 0.4100 - mean_absolute_error: 0.4100\n",
      "Epoch 95/100\n",
      "1/1 [==============================] - 0s 10ms/step - loss: 0.2001 - mean_absolute_error: 0.2001\n",
      "Epoch 96/100\n",
      "1/1 [==============================] - 0s 13ms/step - loss: 0.3183 - mean_absolute_error: 0.3183\n",
      "Epoch 97/100\n",
      "1/1 [==============================] - 0s 12ms/step - loss: 0.4717 - mean_absolute_error: 0.4717\n",
      "Epoch 98/100\n",
      "1/1 [==============================] - 0s 13ms/step - loss: 0.3384 - mean_absolute_error: 0.3384\n",
      "Epoch 99/100\n",
      "1/1 [==============================] - 0s 10ms/step - loss: 0.0538 - mean_absolute_error: 0.0538\n",
      "Epoch 100/100\n",
      "1/1 [==============================] - 0s 11ms/step - loss: 0.1325 - mean_absolute_error: 0.1325\n"
     ]
    }
   ],
   "source": [
    "\n",
    "model4 = tf.keras.Sequential([\n",
    "    tf.keras.layers.Dense(50, activation=None),\n",
    "    tf.keras.layers.Dense(1)\n",
    "])\n",
    "\n",
    "model4.compile(loss=tf.keras.losses.mae,\n",
    "               optimizer=tf.keras.optimizers.Adam(lr=0.001),\n",
    "               metrics=tf.keras.metrics.mae\n",
    "               )\n",
    "with tf.device(\"/gpu:0\"):\n",
    "    model4.fit(tf.expand_dims(X, -1), Y, epochs=100)\n"
   ]
  },
  {
   "cell_type": "code",
   "execution_count": 62,
   "metadata": {},
   "outputs": [
    {
     "data": {
      "text/plain": [
       "array([[26.795538]], dtype=float32)"
      ]
     },
     "execution_count": 62,
     "metadata": {},
     "output_type": "execute_result"
    }
   ],
   "source": [
    "model4.predict([17.0])"
   ]
  }
 ],
 "metadata": {
  "interpreter": {
   "hash": "99e2746e4555f88759d2b41aa7e330c735e7f4d30e7e63d3c75abd8c07d36ad7"
  },
  "kernelspec": {
   "display_name": "Python 3.10.0 ('gputest')",
   "language": "python",
   "name": "python3"
  },
  "language_info": {
   "codemirror_mode": {
    "name": "ipython",
    "version": 3
   },
   "file_extension": ".py",
   "mimetype": "text/x-python",
   "name": "python",
   "nbconvert_exporter": "python",
   "pygments_lexer": "ipython3",
   "version": "3.10.0"
  },
  "orig_nbformat": 4
 },
 "nbformat": 4,
 "nbformat_minor": 2
}
